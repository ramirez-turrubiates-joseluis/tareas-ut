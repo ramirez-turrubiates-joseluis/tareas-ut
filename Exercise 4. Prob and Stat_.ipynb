{
 "cells": [
  {
   "cell_type": "markdown",
   "metadata": {},
   "source": [
    "# #4 Program to calculate Sample mean, Mode and Standard deviation.\n",
    "## Juan Carlos Maldonado Valencia and Jose Luis Ramirez Turrubiates 3\"B\"\n"
   ]
  },
  {
   "cell_type": "code",
   "execution_count": 3,
   "metadata": {},
   "outputs": [
    {
     "name": "stdout",
     "output_type": "stream",
     "text": [
      "Introduce the number of values you will use: 3\n",
      "Introduce a value: 2\n",
      "Introduce a value: 1\n",
      "Introduce a value: 2\n",
      " \n",
      "Choose one option:\n",
      "[1] Sample Mean\n",
      "[2] Standard Deviation\n",
      "[3] Mode\n",
      "\n",
      "\n",
      "Your option is: 1\n",
      "The sample mean is: 1.6666666666666667\n",
      "You choosed an option that is not correct. Try again\n"
     ]
    }
   ],
   "source": [
    "In = int(input(\"Introduce the number of values you will use: \")) #Here we put the command input to \n",
    "ListNum = []  # with the command [] we save the values in form of a list \n",
    "a= 0    \n",
    "Mode = 0\n",
    "Dev=0\n",
    "mod = 0\n",
    "rep = 0\n",
    "values2=0\n",
    "z = In\n",
    "\n",
    "for i in range (0,In): \n",
    "    x = int(input(\"Introduce a value: \"))    #In this part with the command \"for\" we repeat the loop the times \n",
    "    ListNum.append(x)                       #indicated in the range and it is determine by the value of the variable \"In\"\n",
    "print(\"\"\" \n",
    "Choose one option:\n",
    "[1] Sample Mean\n",
    "[2] Standard Deviation\n",
    "[3] Mode\n",
    "\n",
    "\"\"\")\n",
    "option = int(input(\"Your option is: \" ))    #This is a input of a entere number it can be 1,2 or 3\n",
    "\n",
    "if option ==1:  #Here means that if the input option is 1, it is going to run this command (the if)\n",
    "    for j in ListNum: \n",
    "        a += j       \n",
    "        Suma = a/z  # here we declarate another value with the operation of others variables \n",
    "    print(f\"The sample mean is: {Suma}\") #Finally here is the answer of the first if \n",
    "\n",
    "if option == 2:     # Here we have another if but it is going to run until the user type 2 \n",
    "    for k in range(0,In):\n",
    "        a+=ListNum[k]   #here we have the operations of the standard deviation \n",
    "        Suma=a/z \n",
    "    for l in range(0, In):\n",
    "        Dev+=(ListNum[l]-Suma)**2\n",
    "    \n",
    "    Dev=(Dev/((In)-1))**(1/2)    \n",
    "    print(\"The Sample Deviation is: \",Dev) #Here just print the result of the second if \n",
    "\n",
    "if option == 3: #In this part, the option 3 gives you the mode.\n",
    "    for m in ListNum:\n",
    "        mod = ListNum.count(m) #Using '.count()' we choose a number from the list previously created\n",
    "        if mod > rep:\n",
    "            rep = mod\n",
    "    moda = []\n",
    "    for m in ListNum:\n",
    "        mod = ListNum.count(m)\n",
    "        if mod == rep and m not in moda:\n",
    "            moda.append(m)\n",
    "    print(\"The mode is: \", moda)\n",
    "else:  # if we put another option greater than 3  the next print is going to happen. \n",
    "    print(\"You choosed an option that is not correct. Try again\")\n",
    "    "
   ]
  },
  {
   "cell_type": "code",
   "execution_count": null,
   "metadata": {},
   "outputs": [],
   "source": []
  }
 ],
 "metadata": {
  "kernelspec": {
   "display_name": "Python 3",
   "language": "python",
   "name": "python3"
  },
  "language_info": {
   "codemirror_mode": {
    "name": "ipython",
    "version": 3
   },
   "file_extension": ".py",
   "mimetype": "text/x-python",
   "name": "python",
   "nbconvert_exporter": "python",
   "pygments_lexer": "ipython3",
   "version": "3.7.3"
  }
 },
 "nbformat": 4,
 "nbformat_minor": 2
}
