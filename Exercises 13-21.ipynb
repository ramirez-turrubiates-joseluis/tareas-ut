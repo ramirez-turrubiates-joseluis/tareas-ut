{
 "cells": [
  {
   "cell_type": "markdown",
   "metadata": {},
   "source": [
    "# Maldonado Valencia Juan Carlos and Ramirez Turrubiates Jose Luis 3\"B\""
   ]
  },
  {
   "cell_type": "markdown",
   "metadata": {},
   "source": [
    "# Exercise 13 Parameters, Unpacking, Variables"
   ]
  },
  {
   "cell_type": "markdown",
   "metadata": {},
   "source": [
    "With this excercise we are going to transform the varaibles to a script.The word \"script\" is for create another name for your files.When you save a file as Ex13.py This part is called argument but now in this exercise we are going to create a script that accept arguments"
   ]
  },
  {
   "cell_type": "code",
   "execution_count": 2,
   "metadata": {
    "collapsed": true
   },
   "outputs": [
    {
     "ename": "ValueError",
     "evalue": "not enough values to unpack (expected 4, got 3)",
     "output_type": "error",
     "traceback": [
      "\u001b[1;31m---------------------------------------------------------------------------\u001b[0m",
      "\u001b[1;31mValueError\u001b[0m                                Traceback (most recent call last)",
      "\u001b[1;32m<ipython-input-2-83be4d3efa99>\u001b[0m in \u001b[0;36m<module>\u001b[1;34m\u001b[0m\n\u001b[0;32m      1\u001b[0m \u001b[1;32mfrom\u001b[0m \u001b[0msys\u001b[0m \u001b[1;32mimport\u001b[0m \u001b[0margv\u001b[0m\u001b[1;33m\u001b[0m\u001b[1;33m\u001b[0m\u001b[0m\n\u001b[0;32m      2\u001b[0m \u001b[1;33m\u001b[0m\u001b[0m\n\u001b[1;32m----> 3\u001b[1;33m \u001b[0mscript\u001b[0m\u001b[1;33m,\u001b[0m \u001b[0mfirst\u001b[0m\u001b[1;33m,\u001b[0m \u001b[0msecond\u001b[0m\u001b[1;33m,\u001b[0m \u001b[0mthird\u001b[0m \u001b[1;33m=\u001b[0m \u001b[0margv\u001b[0m\u001b[1;33m\u001b[0m\u001b[1;33m\u001b[0m\u001b[0m\n\u001b[0m\u001b[0;32m      4\u001b[0m \u001b[0mprint\u001b[0m \u001b[1;33m(\u001b[0m\u001b[1;34m\"The script is called:\"\u001b[0m\u001b[1;33m)\u001b[0m\u001b[1;33m,\u001b[0m \u001b[0mscript\u001b[0m\u001b[1;33m\u001b[0m\u001b[1;33m\u001b[0m\u001b[0m\n\u001b[0;32m      5\u001b[0m \u001b[0mprint\u001b[0m \u001b[1;33m(\u001b[0m\u001b[1;34m\"Your first variable is:\"\u001b[0m\u001b[1;33m)\u001b[0m\u001b[1;33m,\u001b[0m \u001b[0mfirst\u001b[0m\u001b[1;33m\u001b[0m\u001b[1;33m\u001b[0m\u001b[0m\n",
      "\u001b[1;31mValueError\u001b[0m: not enough values to unpack (expected 4, got 3)"
     ]
    }
   ],
   "source": [
    "from sys import argv #The explanation of this command is down of this cell\n",
    "\n",
    "script, first, second, third = argv\n",
    "print (\"The script is called:\"), script\n",
    "print (\"Your first variable is:\"), first    #All these just are prints of the code indicated the result \n",
    "print (\"Your second variable is:\"), second \n",
    "print (\"Your third variable is:\"),  third"
   ]
  },
  {
   "cell_type": "markdown",
   "metadata": {},
   "source": [
    "With the from we say to the computer that by sys import the argument it is very useful beacuse if you want use just one part of another file with this option you can use all the code import everything or just a part of the code.\n",
    "The argv contains the arguments to pass to the script of phyton.\n",
    "With that instruction we are saying to the computer that argv take the values inside and unpack it and assign it to all these variables on the left in order and the result will be the name of the file but with the values of the variables "
   ]
  },
  {
   "cell_type": "markdown",
   "metadata": {},
   "source": [
    "# Exercise 14 Prompting and Passing "
   ]
  },
  {
   "cell_type": "markdown",
   "metadata": {},
   "source": [
    "With this exercise We are going to learn how read and write this kind of files also  we will use the raw input\n"
   ]
  },
  {
   "cell_type": "code",
   "execution_count": 3,
   "metadata": {
    "collapsed": true
   },
   "outputs": [
    {
     "ename": "SyntaxError",
     "evalue": "invalid syntax (<ipython-input-3-43b8b46fe788>, line 6)",
     "output_type": "error",
     "traceback": [
      "\u001b[1;36m  File \u001b[1;32m\"<ipython-input-3-43b8b46fe788>\"\u001b[1;36m, line \u001b[1;32m6\u001b[0m\n\u001b[1;33m    print \"Hi %s, I'm the %s script.\" % (user_name, script)\u001b[0m\n\u001b[1;37m                                    ^\u001b[0m\n\u001b[1;31mSyntaxError\u001b[0m\u001b[1;31m:\u001b[0m invalid syntax\n"
     ]
    }
   ],
   "source": [
    "from sys import argv #Here we are doing the same as the previous exercise\n",
    "\n",
    "script, user_name = argv  #Here We are using another variables \n",
    "prompt = '> '\n",
    "\n",
    "print \"Hi %s, I'm the %s script.\" % (user_name, script) \n",
    "print \"I'd like to ask you a few questions.\"\n",
    "print \"Do you like me %s?\" % user_name\n",
    "likes = raw_input(prompt)   #Here is a input in which the user must answer something to continue with the programm\n",
    "\n",
    "print \"Where do you live %s?\" % user_name\n",
    "lives = raw_input(prompt)    #Here is a input in which the user must answer something to continue with the programm\n",
    "\n",
    "print \"What kind of computer do you have?\"\n",
    "computer = raw_input(prompt)  #Here is a input in which the user must answer something to continue with the programm\n",
    "\n",
    "print \"\"\"\n",
    "Alright, so you said %r about liking me.\n",
    "You live in %r. Not sure where that is.\n",
    "And you have a %r computer. Nice.\n",
    "\"\"\" % (likes, lives, computer)  #Here with the instruction %r The programm put the inputs in the order indicated "
   ]
  },
  {
   "cell_type": "markdown",
   "metadata": {},
   "source": [
    "Before run this program you need to add a name for the argv, and with option every time that the program saw the command %s and the variable user_name outside of the print there is going to be your name write.\n",
    "The variable prompt recives the information of the raw_input to organize\n",
    "\n",
    "In the final of the programm,it is going to give you the information putted in the raw input \n"
   ]
  },
  {
   "cell_type": "markdown",
   "metadata": {},
   "source": [
    "# Exercise 15 Reading Files"
   ]
  },
  {
   "cell_type": "markdown",
   "metadata": {},
   "source": [
    "In this exercise the book give us a text to import to our new file, the information is the next:\n",
    "This is stuff I typed into a file.\n",
    "It is really cool stuff.\n",
    "Lots and lots of fun to have in here.\n",
    "\n",
    "Now we have the code :"
   ]
  },
  {
   "cell_type": "code",
   "execution_count": 4,
   "metadata": {
    "collapsed": true
   },
   "outputs": [
    {
     "ename": "SyntaxError",
     "evalue": "Missing parentheses in call to 'print'. Did you mean print(\"Here's your file %r:\" % filename)? (<ipython-input-4-46a04b5d3168>, line 7)",
     "output_type": "error",
     "traceback": [
      "\u001b[1;36m  File \u001b[1;32m\"<ipython-input-4-46a04b5d3168>\"\u001b[1;36m, line \u001b[1;32m7\u001b[0m\n\u001b[1;33m    print \"Here's your file %r:\" % filename\u001b[0m\n\u001b[1;37m                               ^\u001b[0m\n\u001b[1;31mSyntaxError\u001b[0m\u001b[1;31m:\u001b[0m Missing parentheses in call to 'print'. Did you mean print(\"Here's your file %r:\" % filename)?\n"
     ]
    }
   ],
   "source": [
    "from sys import argv #It is used for import a library in this case from sys I want the function argv \n",
    "\n",
    "script, filename = argv #We defined the variables for the argv \n",
    "\n",
    "txt = open(filename) #With this instruction we are open the file where is the text given by the book\n",
    "\n",
    "print (\"Here's your file %r:\") % filename  #Here It is going to arrive the information of the filename \n",
    "print txt.read() \n",
    "\n",
    "print (\"Type the filename again:\")\n",
    "file_again = raw_input(\"> \")  #Here if you you put the name of the file that you already put in the title of the script \n",
    "\n",
    "txt_again = open(file_again) #And here you open the file selected \n",
    "\n",
    "print txt_again.read()   #This instruction is goin to print again "
   ]
  },
  {
   "cell_type": "markdown",
   "metadata": {},
   "source": [
    "In the first lines we use commands already used is the same as the previous exercise and after we use a new command \"open\" as its name says it open the file txt.\n",
    "\n",
    "After when you put the dot you are sayin that you want the function read the file txt.And in the final there is a raw_input in which if you put the name of the file, the file is going to opne and save in the new variable txt_again, finally the instruction print is for show in the screen the information inside of the variable txt_again is going to be read.\n",
    "Therefore in the screen is going to appear twice the text."
   ]
  },
  {
   "cell_type": "markdown",
   "metadata": {},
   "source": [
    "## Exercise 16 Reading and Writing Files"
   ]
  },
  {
   "cell_type": "markdown",
   "metadata": {},
   "source": [
    "In this exercise we need to remember the next comands:\n",
    "* Close\n",
    "* Read \n",
    "* Readline\n",
    "* Truncate\n",
    "* Write (stuff)\n",
    "Each one of these commands take parameters but in this exercise we really do not care about that \n"
   ]
  },
  {
   "cell_type": "code",
   "execution_count": 2,
   "metadata": {
    "collapsed": true
   },
   "outputs": [
    {
     "ename": "ValueError",
     "evalue": "too many values to unpack (expected 2)",
     "output_type": "error",
     "traceback": [
      "\u001b[1;31m---------------------------------------------------------------------------\u001b[0m",
      "\u001b[1;31mValueError\u001b[0m                                Traceback (most recent call last)",
      "\u001b[1;32m<ipython-input-2-8d27d2c79768>\u001b[0m in \u001b[0;36m<module>\u001b[1;34m\u001b[0m\n\u001b[0;32m      1\u001b[0m \u001b[1;32mfrom\u001b[0m \u001b[0msys\u001b[0m \u001b[1;32mimport\u001b[0m \u001b[0margv\u001b[0m\u001b[1;33m\u001b[0m\u001b[1;33m\u001b[0m\u001b[0m\n\u001b[0;32m      2\u001b[0m \u001b[1;33m\u001b[0m\u001b[0m\n\u001b[1;32m----> 3\u001b[1;33m \u001b[0mscript\u001b[0m\u001b[1;33m,\u001b[0m \u001b[0mfilename\u001b[0m \u001b[1;33m=\u001b[0m \u001b[0margv\u001b[0m\u001b[1;33m\u001b[0m\u001b[1;33m\u001b[0m\u001b[0m\n\u001b[0m\u001b[0;32m      4\u001b[0m \u001b[1;33m\u001b[0m\u001b[0m\n\u001b[0;32m      5\u001b[0m \u001b[0mprint\u001b[0m \u001b[1;33m(\u001b[0m\u001b[1;34m\"We're going to erase %r.\"\u001b[0m\u001b[1;33m)\u001b[0m \u001b[1;33m%\u001b[0m \u001b[0mfilename\u001b[0m\u001b[1;33m\u001b[0m\u001b[1;33m\u001b[0m\u001b[0m\n",
      "\u001b[1;31mValueError\u001b[0m: too many values to unpack (expected 2)"
     ]
    }
   ],
   "source": [
    "from sys import argv\n",
    "\n",
    "script, filename = argv  #Here we declare the variable to use\n",
    "\n",
    "print (\"We're going to erase %r.\") % filename\n",
    "print (\"If you don't want that, hit CTRL- C (^C).\") #All of these code are just print \n",
    "print (\"If you do want that, hit RETURN.\")\n",
    "\n",
    "raw_input(\"?\")\n",
    "print (\"Opening the file...\")\n",
    "target = open(filename, 'w') # with open you open the file in order to use in your code and the \"w\" is for writes inside of the file\n",
    "\n",
    "print (\"Truncating the file. Goodbye!\")\n",
    "target.truncate() #  the truncate means empties the file. Watch out if you care about the file.\n",
    "\n",
    "print (\"Now I'm going to ask you for three lines.\")\n",
    "\n",
    "line1 = raw_input(\"line 1: \")\n",
    "line2 = raw_input(\"line 2: \") # In this part is the information that you want in your file \n",
    "line3 = raw_input(\"line 3: \")\n",
    "\n",
    "print (\"I'm going to write these to the file.\")\n",
    "\n",
    "target.write(line1)  # the function write is for Writes stuff to the file.\n",
    "target.write(\"\\n\")  # And with this instruction you put a page break\n",
    "\n",
    "target.write(line2)   #Here we have the same at the first one \n",
    "target.write(\"\\n\")\n",
    "target.write(line3)\n",
    "target.write(\"\\n\")\n",
    "\n",
    "print (\"And finally, we close it.\")\n",
    "target.close() # The comand close is used for closes the file. Like File- >Save.. in your editor"
   ]
  },
  {
   "cell_type": "markdown",
   "metadata": {},
   "source": [
    "In this exercise we use the librarie sys and remember the script and the filename are values of the name of your file.\n",
    "First we made some print and after we open the file with the instruction open with this command in our programm is already open our file.\n",
    "\n",
    "When we use the command truncate in the variable target where is open our file we delete everything inside of the file .\n",
    "\n",
    "And after we put a raw input for the user to add whathever thing until here the information the information is saved but it is not in the empty file.\n",
    "\n",
    "Now to add the information already given for the user to the empty file we use the command \"write\" but before to write the code it needs a dot and the variable where is the file in this case in \"target\" and after the variable that you want in that file.\n",
    "\n",
    "Finally you close and save the things closing the variable where is the file that you was open."
   ]
  },
  {
   "cell_type": "markdown",
   "metadata": {},
   "source": [
    "# Exercise 17 More Files\n"
   ]
  },
  {
   "cell_type": "markdown",
   "metadata": {},
   "source": [
    "Now in this exercise we are going to write a script to copy a file to another one."
   ]
  },
  {
   "cell_type": "code",
   "execution_count": null,
   "metadata": {},
   "outputs": [],
   "source": [
    "from sys import argv\n",
    "from os.path import exists  #\"os.path\" is used for returns True if a fi le exists, based on its name in a string as an argument.\n",
    "                            #It returns False if not.\n",
    "\n",
    "script, from_file, to_file = argv\n",
    "\n",
    "print \"Copying from %s to %s\" % (from_file, to_file) #here Is just a print with the name of the files \n",
    "\n",
    "\n",
    "in_file = open(from_file) # With this variable we opne the file selected\n",
    "indata = in_file.read() # and herw we save the information if the operation read in a new variable \n",
    "\n",
    "print \"The input file is %d bytes long\" % len(indata) # With the command len we obtain the lenght of the file \n",
    "\n",
    "print \"Does the output file exist? %r\" % exists(to_file) # This command say us if the information exist or not (the file)\n",
    "print \"Ready, hit RETURN to continue, CTRL- C to abort.\"\n",
    "raw_input()\n",
    "\n",
    "out_file = open(to_file, 'w') # With the w you indicate that you can write.\n",
    "out_file.write(indata) #Here we use the instruction of the librarie os.path \n",
    "\n",
    "print \"Alright, all done.\"\n",
    "\n",
    "out_file.close()\n",
    "in_file.close()"
   ]
  },
  {
   "cell_type": "markdown",
   "metadata": {},
   "source": [
    "We use again the modules sys and one new os.path it is used for os.path\" is used for returns True if a fi le exists, based on its name in a string as an arguments and It returns False if not. \n",
    "\n",
    "We use another command called \"len\" with this we obtain the number of byts of the file, to know if the file exist we use the function \"exists\" of the librarie os.path, \n",
    "And finally we just close the programm."
   ]
  },
  {
   "cell_type": "markdown",
   "metadata": {},
   "source": [
    "# Exercise 18. Names, Variables, Code, Functions."
   ]
  },
  {
   "cell_type": "markdown",
   "metadata": {},
   "source": [
    "In this exercise will be explained a function, which is a form of name pieces of code.\n",
    "The functions are used fot three important things:\n",
    "> + They name those pieces as the variables name the strings or the numbers.\n",
    "+ They also take arguments as the scripts take \"argv\".\n",
    "+ Because of the two previous points they let you to make \"mini-scripts\" and \"tiny commands\".\n",
    "\n",
    "Another option is to use the code \"def\" in Python, which is a reserved word of the programm. "
   ]
  },
  {
   "cell_type": "markdown",
   "metadata": {},
   "source": [
    "The following examples are different ways to make functions that work like scripts:"
   ]
  },
  {
   "cell_type": "code",
   "execution_count": 1,
   "metadata": {},
   "outputs": [
    {
     "name": "stdout",
     "output_type": "stream",
     "text": [
      "arg1: Zed, arg2: Shaw\n",
      "arg1: Zed, arg2: Shaw\n",
      "arg1: First! \n",
      "I got nothin'.\n"
     ]
    }
   ],
   "source": [
    "# This one is like your script with argv.\n",
    "def print_two(*args):\n",
    "    arg1,arg2 = args\n",
    "    print(f\"arg1: {arg1}, arg2: {arg2}\")\n",
    "    \n",
    "#However, we could just do this.\n",
    "def print_two_again(arg1,arg2):\n",
    "    print(f\"arg1: {arg1}, arg2: {arg2}\")\n",
    "    \n",
    "#This just takes one argument.\n",
    "def print_one(arg1):\n",
    "    print(f\"arg1: {arg1}\")\n",
    "    \n",
    "#And this one does not take arguments.\n",
    "def print_none():\n",
    "    print(\"I got nothin'.\")\n",
    "    \n",
    "print_two(\"Zed\",\"Shaw\")\n",
    "print_two_again(\"Zed\",\"Shaw\")\n",
    "print_one(\"First! \")\n",
    "print_none()"
   ]
  },
  {
   "cell_type": "markdown",
   "metadata": {},
   "source": [
    "Notice that you have used your own functions, but using tricks because those \"commands\" are just functions, in other words you can make your own commands and use them in your scripts too."
   ]
  },
  {
   "cell_type": "markdown",
   "metadata": {},
   "source": [
    "# Exercise 19. Functions and Variables."
   ]
  },
  {
   "cell_type": "markdown",
   "metadata": {},
   "source": [
    "The functions could be a mind-blowing amount of information, but don't worry about it. Eventually if you keep doing the previous exercise you will get it.\n",
    "\n",
    "There is one important point that you have not realized yet. The variables in your function are not connected to the variables in your script. This example will help you to think about it:"
   ]
  },
  {
   "cell_type": "code",
   "execution_count": 2,
   "metadata": {},
   "outputs": [
    {
     "name": "stdout",
     "output_type": "stream",
     "text": [
      "We can just give the function numbers directly:\n",
      "You have 20 cheeses!\n",
      "You have 30 boxes of crackers!\n",
      "Man that's enough for a party!\n",
      "Get a blanket.\n",
      "\n",
      "OR, we can use variables from our script:\n",
      "You have 10 cheeses!\n",
      "You have 50 boxes of crackers!\n",
      "Man that's enough for a party!\n",
      "Get a blanket.\n",
      "\n",
      "We can even do math inside too:\n",
      "You have 30 cheeses!\n",
      "You have 11 boxes of crackers!\n",
      "Man that's enough for a party!\n",
      "Get a blanket.\n",
      "\n",
      "And we can combine the two, variables and math:\n",
      "You have 110 cheeses!\n",
      "You have 1050 boxes of crackers!\n",
      "Man that's enough for a party!\n",
      "Get a blanket.\n",
      "\n"
     ]
    }
   ],
   "source": [
    "def cheese_and_crackers(cheese_count, boxes_of_crackers):\n",
    "    print(f\"You have {cheese_count} cheeses!\")\n",
    "    print(f\"You have {boxes_of_crackers} boxes of crackers!\")\n",
    "    print(\"Man that's enough for a party!\")\n",
    "    print(\"Get a blanket.\\n\")\n",
    "    \n",
    "print(\"We can just give the function numbers directly:\")\n",
    "cheese_and_crackers(20, 30)\n",
    "\n",
    "print(\"OR, we can use variables from our script:\")\n",
    "amount_of_cheese = 10\n",
    "amount_of_crackers = 50\n",
    "\n",
    "cheese_and_crackers(amount_of_cheese, amount_of_crackers)\n",
    "\n",
    "\n",
    "print(\"We can even do math inside too:\")\n",
    "cheese_and_crackers(10 + 20, 5 + 6)\n",
    "\n",
    "\n",
    "print(\"And we can combine the two, variables and math:\")\n",
    "cheese_and_crackers(amount_of_cheese + 100, amount_of_crackers + 1000)"
   ]
  },
  {
   "cell_type": "markdown",
   "metadata": {},
   "source": [
    "# Exercise 20. Functions and Files."
   ]
  },
  {
   "cell_type": "markdown",
   "metadata": {},
   "source": [
    "A file in Python is kind of like an old tape drive on a mainframe or maybe a DVD player. It has a ”read head,” and you can ”seek” this read head around the file to positions, then work with it there. In this example, a variable like \"f\" will be used as a file.\n",
    "\n",
    "In this part will be used functions and files to notice how can the work together making an useful stuff:\n"
   ]
  },
  {
   "cell_type": "code",
   "execution_count": 3,
   "metadata": {},
   "outputs": [
    {
     "ename": "ValueError",
     "evalue": "too many values to unpack (expected 2)",
     "output_type": "error",
     "traceback": [
      "\u001b[1;31m---------------------------------------------------------------------------\u001b[0m",
      "\u001b[1;31mValueError\u001b[0m                                Traceback (most recent call last)",
      "\u001b[1;32m<ipython-input-3-b7415c4a2589>\u001b[0m in \u001b[0;36m<module>\u001b[1;34m\u001b[0m\n\u001b[0;32m      1\u001b[0m \u001b[1;32mfrom\u001b[0m \u001b[0msys\u001b[0m \u001b[1;32mimport\u001b[0m \u001b[0margv\u001b[0m\u001b[1;33m\u001b[0m\u001b[1;33m\u001b[0m\u001b[0m\n\u001b[0;32m      2\u001b[0m \u001b[1;33m\u001b[0m\u001b[0m\n\u001b[1;32m----> 3\u001b[1;33m \u001b[0mscript\u001b[0m\u001b[1;33m,\u001b[0m \u001b[0minput_file\u001b[0m \u001b[1;33m=\u001b[0m \u001b[0margv\u001b[0m\u001b[1;33m\u001b[0m\u001b[1;33m\u001b[0m\u001b[0m\n\u001b[0m\u001b[0;32m      4\u001b[0m \u001b[1;33m\u001b[0m\u001b[0m\n\u001b[0;32m      5\u001b[0m \u001b[1;32mdef\u001b[0m \u001b[0mprint_all\u001b[0m\u001b[1;33m(\u001b[0m\u001b[0mf\u001b[0m\u001b[1;33m)\u001b[0m\u001b[1;33m:\u001b[0m\u001b[1;33m\u001b[0m\u001b[1;33m\u001b[0m\u001b[0m\n",
      "\u001b[1;31mValueError\u001b[0m: too many values to unpack (expected 2)"
     ]
    }
   ],
   "source": [
    "from sys import argv\n",
    "\n",
    "script, input_file = argv\n",
    "\n",
    "def print_all(f):\n",
    "    print(f.read())\n",
    "    \n",
    "def rewind(f):\n",
    "    f.seek(0)\n",
    "\n",
    "def print_a_line(line_count, f):\n",
    "    print(line_count, f.readline())\n",
    "    \n",
    "current_file = open(input_file)\n",
    "\n",
    "print(\"First let's print the whole file: \\n\")\n",
    "\n",
    "print_all(current_file)\n",
    "\n",
    "print(\"Now let's rewind, kind of like a tape.\")\n",
    "\n",
    "rewind(current_file)\n",
    "\n",
    "print(\"Let's print three lines: \")\n",
    "\n",
    "current_line = 1\n",
    "print_a_line(current_line, current_file)\n",
    "\n",
    "current_line = current_line + 1\n",
    "print_a_line(current_line, current_file)\n",
    "\n",
    "current_line = current_line + 1\n",
    "print_a_line(current_line, current_file)"
   ]
  },
  {
   "cell_type": "markdown",
   "metadata": {},
   "source": [
    "## This is what you should see at the output of the programm: \n",
    "\n",
    "First let's print the whole file:\n",
    "\n",
    "This is line 1 \n",
    "This is line 2\n",
    "This is line 3\n",
    "\n",
    "Now let's rewind, kind of like a tape.\n",
    "Let's print three lines:\n",
    "\n",
    "1 This is line 1\n",
    "\n",
    "2 This is line 2\n",
    "\n",
    "3 This is line 3"
   ]
  },
  {
   "cell_type": "markdown",
   "metadata": {},
   "source": [
    "# Exercise 21. Functions Can Return Something."
   ]
  },
  {
   "cell_type": "markdown",
   "metadata": {},
   "source": [
    "After previous exercises, we'll use \"=\" character to name variables and then set them to strings or numbers. The objective is use \"=\" and a new code of Python return to simulate a variable as a value from a function."
   ]
  },
  {
   "cell_type": "code",
   "execution_count": 4,
   "metadata": {},
   "outputs": [
    {
     "name": "stdout",
     "output_type": "stream",
     "text": [
      "Let's do some math with just functions!\n",
      "\n",
      "ADDING 12 + 8\n",
      "SUBTRACTING 100 - 22\n",
      "MULTIPLYING 9 * 2\n",
      "DIVIDING 200 / 2\n",
      "\n",
      "Age: 20\n",
      "Height: 78\n",
      "Weight: 18\n",
      "IQ: 100.0\n",
      "\n"
     ]
    }
   ],
   "source": [
    "def add(a, b):\n",
    "    print(f\"ADDING {a} + {b}\")\n",
    "    return a + b\n",
    "\n",
    "def subtract(a, b):\n",
    "    print(f\"SUBTRACTING {a} - {b}\")\n",
    "    return a - b\n",
    "\n",
    "def multiply(a, b):\n",
    "    print(f\"MULTIPLYING {a} * {b}\")\n",
    "    return a * b\n",
    "\n",
    "def divide(a, b):\n",
    "    print(f\"DIVIDING {a} / {b}\")\n",
    "    return a / b\n",
    "\n",
    "print(\"Let's do some math with just functions!\\n\")\n",
    "\n",
    "age = add(12, 8) \n",
    "height = subtract(100, 22)\n",
    "weight = multiply(9,2)\n",
    "iq = divide(200,2)\n",
    "\n",
    "print(f\"\"\"\\nAge: {age}\n",
    "Height: {height}\n",
    "Weight: {weight}\n",
    "IQ: {iq}\n",
    "\"\"\")\n"
   ]
  },
  {
   "cell_type": "markdown",
   "metadata": {},
   "source": [
    "Now, this is a kind of more complex code using the showed before:"
   ]
  },
  {
   "cell_type": "code",
   "execution_count": 5,
   "metadata": {},
   "outputs": [
    {
     "name": "stdout",
     "output_type": "stream",
     "text": [
      "ADDING 12 + 8\n",
      "SUBTRACTING 100 - 22\n",
      "MULTIPLYING 9 * 2\n",
      "DIVIDING 200 / 2\n",
      "\n",
      "Here is a Puzzle:\n",
      " \n",
      "DIVIDING 100.0 / 2\n",
      "MULTIPLYING 18 * 50.0\n",
      "SUBTRACTING 78 - 900.0\n",
      "ADDING 20 + -822.0\n",
      "That becomes:  -802.0 can you do it by hand?\n"
     ]
    }
   ],
   "source": [
    "def add(a, b):\n",
    "    print(f\"ADDING {a} + {b}\")\n",
    "    return a + b\n",
    "\n",
    "def subtract(a, b):\n",
    "    print(f\"SUBTRACTING {a} - {b}\")\n",
    "    return a - b\n",
    "\n",
    "def multiply(a, b):\n",
    "    print(f\"MULTIPLYING {a} * {b}\")\n",
    "    return a * b\n",
    "\n",
    "def divide(a, b):\n",
    "    print(f\"DIVIDING {a} / {b}\")\n",
    "    return a / b\n",
    "\n",
    "age = add(12, 8) \n",
    "height = subtract(100, 22)\n",
    "weight = multiply(9,2)\n",
    "iq = divide(200,2)\n",
    "\n",
    "print(\"\\nHere is a Puzzle:\\n \")\n",
    "\n",
    "what = add(age, subtract(height, multiply(weight, divide(iq,2))))\n",
    "print(\"That becomes: \", what, \"can you do it by hand?\")"
   ]
  },
  {
   "cell_type": "markdown",
   "metadata": {},
   "source": [
    "Now, you should be able to notice that it is possible to do your own math functions. It is important to type \"return\". The function of \"Return\", which is our new code Python is the following:\n",
    "\n",
    "> + The function is called by two arguments, in this case \"a\" and \"b\".\n",
    "+ Then we print what our function is doing, for example: 'ADDING', 'SUBTRACTING', 'MULTIPLYING' OR 'DIVIDING'.\n",
    "+ We need to tell Python to do something like a backward using \"Return\". For this we type the operations: + , - , / , * \n",
    "+ At the end Python does the operation. When the function ends, any line that runs it will be able to assign, for example, a + b result to a variable"
   ]
  }
 ],
 "metadata": {
  "kernelspec": {
   "display_name": "Python 3",
   "language": "python",
   "name": "python3"
  },
  "language_info": {
   "codemirror_mode": {
    "name": "ipython",
    "version": 3
   },
   "file_extension": ".py",
   "mimetype": "text/x-python",
   "name": "python",
   "nbconvert_exporter": "python",
   "pygments_lexer": "ipython3",
   "version": "3.7.3"
  }
 },
 "nbformat": 4,
 "nbformat_minor": 2
}
