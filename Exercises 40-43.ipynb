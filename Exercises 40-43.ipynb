{
 "cells": [
  {
   "cell_type": "markdown",
   "metadata": {},
   "source": [
    "# Maldonado Valencia Juan Carlos and Ramirez Turrubiates Jose Luis 3\"B\""
   ]
  },
  {
   "cell_type": "markdown",
   "metadata": {},
   "source": [
    "# Exercise 40 Modules, Classes and Objects "
   ]
  },
  {
   "cell_type": "markdown",
   "metadata": {},
   "source": [
    "Here we are going to talk about the Programmation oriented to objects, but in simple words, an object is whatever thing that can do some task and it has characteristics in Programmation the characteristics just are variables.\n",
    "\n",
    "Also, a class is like a molde with this we can create our objects whatever you want.\n",
    "Write this kind of language is very hard because is weird but you need to try."
   ]
  },
  {
   "cell_type": "markdown",
   "metadata": {},
   "source": [
    "1. You know that a module is a Python fi le with some functions or variables in it.\n",
    "2. You then import that fi le.\n",
    "3. And then you can access the functions or variables in that module with the '.' (dot)operator."
   ]
  },
  {
   "cell_type": "markdown",
   "metadata": {},
   "source": [
    "## Classes are like modules"
   ]
  },
  {
   "cell_type": "markdown",
   "metadata": {},
   "source": [
    "When we speak about classes is almost the same as modules with the function class we take a grouping of functions and data and place them inside a container so you can access them with the '.' (dot) operator."
   ]
  },
  {
   "cell_type": "code",
   "execution_count": 1,
   "metadata": {
    "collapsed": true
   },
   "outputs": [
    {
     "ename": "IndentationError",
     "evalue": "expected an indented block (<ipython-input-1-5ad7791dfb83>, line 3)",
     "output_type": "error",
     "traceback": [
      "\u001b[1;36m  File \u001b[1;32m\"<ipython-input-1-5ad7791dfb83>\"\u001b[1;36m, line \u001b[1;32m3\u001b[0m\n\u001b[1;33m    def __init__(self, lyrics):\u001b[0m\n\u001b[1;37m      ^\u001b[0m\n\u001b[1;31mIndentationError\u001b[0m\u001b[1;31m:\u001b[0m expected an indented block\n"
     ]
    }
   ],
   "source": [
    "class Song(object):\n",
    "\n",
    "def __init__(self, lyrics): # Here you define something to after using \n",
    "    self.lyrics = lyrics\n",
    "\n",
    "def sing_me_a_song(self):\n",
    "    for line in self.lyrics: #And here you create a loop for use \n",
    "        print line\n",
    "\n",
    "happy_bday = Song([\"Happy birthday to you\", \n",
    "                   \"I don't want to get sued\",\n",
    "                   \"So I'll stop right there\"])\n",
    "\n",
    "bulls_on_parade = Song([\"They rally around the family\",\n",
    "                        \"With pockets full of shells\"])\n",
    "\n",
    "happy_bday.sing_me_a_song() #Here you are calling the funtion after the dot\n",
    "\n",
    "bulls_on_parade.sing_me_a_song()  #Here you are doing the same as the previous comment\n"
   ]
  },
  {
   "cell_type": "markdown",
   "metadata": {},
   "source": [
    "## The user must see this"
   ]
  },
  {
   "cell_type": "markdown",
   "metadata": {},
   "source": [
    "$ python ex40.py\n",
    "Happy birthday to you\n",
    "I don't want to get sued\n",
    "So I'll stop right there\n",
    "They rally around the family\n",
    "With pockets full of shells\n"
   ]
  },
  {
   "cell_type": "markdown",
   "metadata": {},
   "source": [
    "## Explanation "
   ]
  },
  {
   "cell_type": "markdown",
   "metadata": {},
   "source": [
    "Aclass defines an object type, when you call it you are creating an instance of that class, when you want something to happen you call that object and tell it to do so.\n",
    "\n",
    "With the command __init__ is the constructor of your class in the you create a new instance of the class.\n",
    "\n"
   ]
  },
  {
   "cell_type": "markdown",
   "metadata": {},
   "source": [
    "# Exercise 41 Learning to speak object oriented"
   ]
  },
  {
   "cell_type": "markdown",
   "metadata": {},
   "source": [
    "To start with this exercise you need to learn vocabulary for you can understand:\n",
    "• class—Tell Python to make a new kind of thing.\n",
    "\n",
    "• object—Two meanings: the most basic kind of thing, and any instance of some thing.\n",
    "\n",
    "• instance—What you get when you tell Python to create a class.\n",
    "\n",
    "• def—How you defi ne a function inside a class.\n",
    "\n",
    "• self—Inside the functions in a class, self is a variable for the instance/object being accessed.\n",
    "\n",
    "• inheritance—The concept that one class can inherit traits from another class, much like you and your parents.\n",
    "\n",
    "• composition—The concept that a class can be composed of other classes as parts, much like how a car has wheels.\n",
    "\n",
    "• attribute—A property classes have that are from composition and are usually variables.\n",
    "\n",
    "• is- a—A phrase to say that something inherits from another, as in a “salmon” is- a “fish.”\n",
    "\n",
    "• has- a—A phrase to say that something is composed of other things or has a trait, as in “a\n",
    "salmon has- a mouth.”"
   ]
  },
  {
   "cell_type": "code",
   "execution_count": null,
   "metadata": {},
   "outputs": [],
   "source": [
    "import random\n",
    "from urllib.request import urlopen\n",
    "import sys\n",
    "\n",
    "WORD_URL = \"http://learncodethehardway.org/words.txt\"\n",
    "WORDS = []\n",
    "\n",
    "PHRASES = {\n",
    "    \"class %%%(%%%):\":\n",
    "    \"Make a class named %%% that is-a %%%.\",\n",
    "    \"class %%%(object):\\n\\tdef __init__(self, ***)\" :\n",
    "    \"class %%% has-a __init__ that takes self and *** params.\",\n",
    "    \"class %%%(object):\\n\\tdef ***(self, @@@)\":\n",
    "    \"class %%% has-a function *** that takes self and @@@ params.\",\n",
    "    \"*** = %%%()\":\n",
    "    \"Set *** to an instance of class %%%.\",\n",
    "    \"***.***(@@@)\":\n",
    "    \"From *** get the *** function, call it with params self, @@@.\",\n",
    "    \"***.*** = '***'\":\n",
    "    \"From *** get the *** attribute and set it to '***'.\"\n",
    "}\n",
    "\n",
    "# do they want to drill phrases first\n",
    "if len(sys.argv) == 2 and sys.argv[1] == \"english\":\n",
    "    PHRASE_FIRST = True\n",
    "else:\n",
    "    PHRASE_FIRST = False\n",
    "\n",
    "# load up the words from the website\n",
    "for word in urlopen(WORD_URL).readlines():\n",
    "    WORDS.append(str(word.strip(), encoding=\"utf-8\"))\n",
    "\n",
    "\n",
    "def convert(snippet, phrase):\n",
    "    class_names = [w.capitalize() for w in\n",
    "                   LEARNING TO SPEAK OBJECT-ORIENTED 189\n",
    "                   random.sample(WORDS, snippet.count(\"%%%\"))]\n",
    "    other_names = random.sample(WORDS, snippet.count(\"***\"))\n",
    "    results = []\n",
    "    param_names = []\n",
    "    \n",
    "    for i in range(0, snippet.count(\"@@@\")):\n",
    "        param_count = random.randint(1,3)\n",
    "        param_names.append(', '.join(\n",
    "            random.sample(WORDS, param_count)))\n",
    "        \n",
    "    for sentence in snippet, phrase:\n",
    "        result = sentence[:]\n",
    "        \n",
    "        # fake class names\n",
    "        for word in class_names:\n",
    "            result = result.replace(\"%%%\", word, 1)\n",
    "    \n",
    "        # fake other names\n",
    "        for word in other_names:\n",
    "            result = result.replace(\"***\", word, 1)\n",
    "        \n",
    "        # fake parameter lists\n",
    "        for word in param_names:\n",
    "            result = result.replace(\"@@@\", word, 1)\n",
    "        \n",
    "        results.append(result)\n",
    "    \n",
    "    return results\n",
    "\n",
    "\n",
    "# keep going until they hit CTRL-D\n",
    "try:\n",
    "    while True:\n",
    "        snippets = list(PHRASES.keys())\n",
    "        random.shuffle(snippets)\n",
    "        \n",
    "        for snippet in snippets:\n",
    "            phrase = PHRASES[snippet]\n",
    "            question, answer = convert(snippet, phrase)\n",
    "            if PHRASE_FIRST:\n",
    "                question, answer = answer, question\n",
    "                print(question)\n",
    "                input(\"> \")\n",
    "                print(f\"ANSWER: {answer}\\n\\n\")\n",
    "except EOFError:\n",
    "    print(\"\\nBye\")"
   ]
  },
  {
   "cell_type": "markdown",
   "metadata": {},
   "source": [
    "In the firt part of the code we have different libraries in which with the command import We use some functions.\n",
    "\n",
    "With from you select the librarie and after the code has some if the command if is used for create decitions and also we have anothers options called else.\n",
    "\n",
    "And after with the command def you create a part in which you can use in another part calling it. The command except is used for It is responsible for capturing the exception and gives us the opportunity to process it by displaying.\n",
    "We have another command called for and with this you create a loop in your code "
   ]
  },
  {
   "cell_type": "markdown",
   "metadata": {},
   "source": [
    "# Exercise 42. Is-A, Has-A, Objects and Classes."
   ]
  },
  {
   "cell_type": "markdown",
   "metadata": {},
   "source": [
    "Here will be explain an importante concept that is fundamental you are able to understand. That's the difference between an Object and a Class. However, there is no a real difference between them. They are the same one but at different points in time.\n",
    "\n",
    "This following question may give you a clearer idea:"
   ]
  },
  {
   "cell_type": "markdown",
   "metadata": {},
   "source": [
    "What is the difference between a Salmon and a Fish?"
   ]
  },
  {
   "cell_type": "markdown",
   "metadata": {},
   "source": [
    "Well, they are actually the same, because they both are a kind of fish, but they aren't the same kind of fish. That's what makes them different. Now, if you have a bucket with three salmons and you name them as Rafa, Mary and Jupyter\n",
    "\n",
    "What is the difference between Mary and a Salmon?\n",
    "\n",
    "Taking account the before one, apparently there is no difference between them, because both are Salmons, but Mary is an instance of a Salmon, I mean, it was created by another Salmon and now represents a real thing that has salmon-like attributes.\n",
    "\n",
    "Now, changing the Fish and Salmon into classes and Mary into an Object, we could conclude that \n",
    "\n",
    "An Object is a Class of Class."
   ]
  },
  {
   "cell_type": "markdown",
   "metadata": {},
   "source": [
    "## How This Looks in Code"
   ]
  },
  {
   "cell_type": "markdown",
   "metadata": {},
   "source": [
    "First of all, you need to know what are \"Is-A\", and \"Has-A\".\n",
    "\n",
    "+ Is-A : It is a class relationship. When you talk about objects and classes being related to each other.\n",
    "+ Has-A: It is only when an object and a class are related because they reference each other.\n",
    "\n",
    "A trick to remember this is that the \"is-a\" is the relationship between fish and salmon, while \"has-a\" is the relationship between\n",
    "salmon and gills."
   ]
  },
  {
   "cell_type": "code",
   "execution_count": null,
   "metadata": {},
   "outputs": [],
   "source": [
    "class Animal(object):\n",
    "    pass\n",
    "\n",
    "class Dog(Animal):\n",
    "    def __init__(self, name):\n",
    "        self.name = name\n",
    "\n",
    "class Cat(Animal):\n",
    "    def __init__(self, name):\n",
    "        self.name = name\n",
    "        \n",
    "class Person(object):\n",
    "    def __init__(self, name):\n",
    "        self.name = name\n",
    "        self.pet = None\n",
    "\n",
    "class Employee(Person):\n",
    "    def __init__(self, name, salary):\n",
    "        super(Employee, self).__init__(name)\n",
    "        self.salary = salary\n",
    "        \n",
    "class Fish(object):\n",
    "    pass\n",
    "\n",
    "class Salmon(Fish):\n",
    "    pass\n",
    "\n",
    "class Halibut(Fish):\n",
    "    pass\n",
    "\n",
    "rover = Dog(\"Rover\")\n",
    "\n",
    "satan = Cat(\"Satan\")\n",
    "\n",
    "mary = Person(\"Mary\")\n",
    "\n",
    "mary.pet = satan\n",
    "\n",
    "frank = Employee(\"Frank\", 120000)\n",
    "\n",
    "frank.pet = rover\n",
    "\n",
    "flipper = Fish()\n",
    "\n",
    "crouse = Salmon()\n",
    "\n",
    "harry = Halibut()"
   ]
  },
  {
   "cell_type": "markdown",
   "metadata": {},
   "source": [
    "# Exercise 43. Basic Object-Oriented Analysis and Design"
   ]
  },
  {
   "cell_type": "markdown",
   "metadata": {},
   "source": [
    "The following is a set of steps to build something using Python. Specifically\n",
    "with object-oriented programming (OOP):\n",
    "\n",
    "> + [1] Write or draw about the problem.\n",
    "+ [2] Extract key concepts from 1 and research them.\n",
    "+ [3] Create a class hierarchy and object map for the concepts.\n",
    "+ [4] Code the classes and a test to run them.\n",
    "+ [5] Repeat and refine.\n",
    "\n"
   ]
  },
  {
   "cell_type": "markdown",
   "metadata": {},
   "source": [
    "## The Analysis of a Simple Game Engine"
   ]
  },
  {
   "cell_type": "markdown",
   "metadata": {},
   "source": [
    "Let's see an example of this Analysis.\n",
    "\n",
    "The game I want to make is called \"Gothons from Planet Percal #25,\" and it will be a small space adventure\n",
    "game. With nothing more than that concept in my mind, I can explore the idea and figure out\n",
    "how to make the game come to life."
   ]
  },
  {
   "cell_type": "markdown",
   "metadata": {},
   "source": [
    "## Write or Draw About the Problem"
   ]
  },
  {
   "cell_type": "markdown",
   "metadata": {},
   "source": [
    "”Aliens have invaded a space ship and our hero has to go through a maze of rooms defeating them so\n",
    "he can escape into an escape pod to the planet below. The game will be more like a Zork or Adventure\n",
    "type game with text outputs and funny ways to die. The game will involve an engine that runs a map\n",
    "full of rooms or scenes. Each room will print its own description when the player enters it and then tell\n",
    "the engine what room to run next out of the map.”"
   ]
  },
  {
   "cell_type": "markdown",
   "metadata": {},
   "source": [
    "Now I want to describe each scene:"
   ]
  },
  {
   "cell_type": "markdown",
   "metadata": {},
   "source": [
    "+ Death: This is when the player dies and should be something funny.\n",
    "+ Central Corridor: This is the starting point and has a Gothon already standing there that the players have\n",
    "to defeat with a joke before continuing.\n",
    "+ Laser Weapon Armory: This is where the hero gets a neutron bomb to blow up the ship before getting\n",
    "to the escape pod. It has a keypad the hero has to guess the number for.\n",
    "+ The Bridge: Another battle scene with a Gothon where the hero places the bomb.\n",
    "+ Escape Pod: Where the hero escapes but only after guessing the right escape pod.\n",
    "\n",
    "At this point I might draw out a map of these, maybe write more descriptions of each room—whatever\n",
    "comes to mind as I explore the problem."
   ]
  },
  {
   "cell_type": "markdown",
   "metadata": {},
   "source": [
    "## Extract Key Concepts and Research Them"
   ]
  },
  {
   "cell_type": "markdown",
   "metadata": {},
   "source": [
    "I now have enough information to extract some of the nouns and analyze their class hierarchy. First I\n",
    "make a list of all the nouns:"
   ]
  },
  {
   "cell_type": "markdown",
   "metadata": {},
   "source": [
    "+ Alien\n",
    "+ Player\n",
    "+ Ship\n",
    "+ Maze\n",
    "+ Room\n",
    "+ Scene\n",
    "+ Gothon\n",
    "+ Escape Pod\n",
    "+ Planet\n",
    "+ Map\n",
    "+ Engine\n",
    "+ Death\n",
    "+ Central Corridor\n",
    "+ Laser Weapon Armory\n",
    "+ The Bridge"
   ]
  },
  {
   "cell_type": "markdown",
   "metadata": {},
   "source": [
    "## Create a Class Hierarchy and Object Map for the Concepts"
   ]
  },
  {
   "cell_type": "markdown",
   "metadata": {},
   "source": [
    "Once I have that I turn it into a class hierarchy by asking ”What is similar to other things?” I also ask\n",
    "”What is basically just another word for another thing?”\n",
    "\n",
    "Right away I see that ”Room” and ”Scene” are basically the same thing depending on how I want to\n",
    "do things. I’m going to pick ”Scene” for this game. Then I see that all the specific rooms like ”Central\n",
    "Corridor” are basically just Scenes. I see also that Death is basically a Scene, which confirms my choice of\n",
    "”Scene” over ”Room” since you can have a death scene, but a death room is kind of odd. ”Maze” and\n",
    "”Map” are basically the same so I’m going to go with ”Map” since I used it more often. I don’t want\n",
    "to do a battle system, so I’m going to ignore ”Alien” and ”Player” and save that for later. The ”Planet”\n",
    "could also just be another scene instead of something specific.\n",
    "\n",
    "After all of that thought process I start to make a class hierarchy that looks like this in my text editor:"
   ]
  },
  {
   "cell_type": "markdown",
   "metadata": {},
   "source": [
    "> + Map\n",
    "> + Engine\n",
    "> + Scene\n",
    ">> + Death\n",
    ">> + C e n t r a l C o r r i d o r\n",
    ">> + L a s e r Weapon Armory\n",
    ">> + The Bridge\n",
    ">> + Escape Pod"
   ]
  },
  {
   "cell_type": "markdown",
   "metadata": {},
   "source": [
    "I would then go through and figure out what actions are needed on each thing based on verbs in the\n",
    "description. For example, I know from the description I’m going to need a way to ”run” the engine,\n",
    "”get the next scene” from the map, get the ”opening scene,” and ”enter” a scene. I’ll add those like\n",
    "this:"
   ]
  },
  {
   "cell_type": "markdown",
   "metadata": {},
   "source": [
    "+ Map\n",
    " - next_scene\n",
    " - opening_scene\n",
    "+ Engine\n",
    " - play\n",
    "+ Scene\n",
    " - enter\n",
    " + Death\n",
    " + C e n t r a l C o r r i d o r\n",
    " + L a s e r Weapon Armory\n",
    " + The Bridge\n",
    " + Escape Pod"
   ]
  },
  {
   "cell_type": "markdown",
   "metadata": {},
   "source": [
    "Notice how I just put -enter under Scene since I know that all the scenes under it will inherit it and\n",
    "have to override it later"
   ]
  },
  {
   "cell_type": "markdown",
   "metadata": {},
   "source": [
    "## Code the Classes and a Test to Run Them"
   ]
  },
  {
   "cell_type": "markdown",
   "metadata": {},
   "source": [
    "Once I have this tree of classes and some of the functions I open up a source file in my editor and try to\n",
    "write the code for it. Usually I’ll just copy-paste the tree into the source file and then edit it into classes.\n",
    "Here’s a small example of how this might look at first, with a simple little test at the end of the file."
   ]
  },
  {
   "cell_type": "code",
   "execution_count": null,
   "metadata": {},
   "outputs": [],
   "source": [
    "class Scene(object):\n",
    "    \n",
    "    def enter(self):\n",
    "        pass\n",
    "\n",
    "class Engine(object):\n",
    "    \n",
    "    def __init__(self, scene_map):\n",
    "        pass\n",
    "    \n",
    "    def play(self):\n",
    "        pass\n",
    "\n",
    "class Death(Scene):\n",
    "    \n",
    "    def enter(self):\n",
    "        pass\n",
    "\n",
    "class CentralCorridor(Scene):\n",
    "    \n",
    "    def enter(self):\n",
    "        pass\n",
    "\n",
    "class LaserWeaponArmory(Scene):\n",
    "    \n",
    "    def enter(self):\n",
    "        pass\n",
    "\n",
    "class TheBridge(Scene):\n",
    "    def enter(self):\n",
    "        pass\n",
    "\n",
    "class EscapePod(Scene):\n",
    "    def enter(self):\n",
    "        pass\n",
    "\n",
    "class Map(object):\n",
    "    def __init__(self, start_scene):\n",
    "        pass\n",
    "\n",
    "def next_scene(self, scene_name):\n",
    "    pass\n",
    "\n",
    "def opening_scene(self):\n",
    "    pass\n",
    "\n",
    "a_map = Map('central_corridor')\n",
    "a_game = Engine(a_map)\n",
    "a_game.play()"
   ]
  },
  {
   "cell_type": "markdown",
   "metadata": {},
   "source": [
    "In this file you can see that I simply replicated the hierarchy I wanted and then added a little bit of code\n",
    "at the end to run it and see if it all works in this basic structure. In the later sections of this exercise you’ll\n",
    "fill in the rest of this code and make it work to match the description of the game."
   ]
  },
  {
   "cell_type": "markdown",
   "metadata": {},
   "source": [
    "## Repeat and Refine"
   ]
  },
  {
   "cell_type": "markdown",
   "metadata": {},
   "source": [
    "The last step in my little process isn’t so much a step as it is a while-loop. You don’t ever do this as a onepass\n",
    "operation. Instead you go back over the whole process again and refine it based on information\n",
    "you’ve learned from later steps. Sometimes I’ll get to step 3 and realize that I need to work on 1 and\n",
    "2 more, so I’ll stop and go back and work on those. Sometimes I’ll get a flash of inspiration and jump\n",
    "to the end to code up the solution in my head while I have it there, but then I’ll go back and do the\n",
    "previous steps to make sure I cover all the possibilities I have."
   ]
  },
  {
   "cell_type": "markdown",
   "metadata": {},
   "source": [
    "## The Code for ”Gothons from Planet Percal #25”"
   ]
  },
  {
   "cell_type": "code",
   "execution_count": null,
   "metadata": {},
   "outputs": [],
   "source": [
    "from sys import exit\n",
    "from random import randint\n",
    "from textwrap import dedent"
   ]
  },
  {
   "cell_type": "markdown",
   "metadata": {},
   "source": [
    "This is just our basic imports for the game. The only new thing is the import of the dedent function\n",
    "from the textwrap module. This little function will help us write our room descriptions using \"\"\" (triplequote)\n",
    "strings. It simply strips leading white-space from the beginning of lines in a string. Without this\n",
    "function using \"\"\" style strings fails because they are indented on the screen the same level as in the\n",
    "Python code."
   ]
  },
  {
   "cell_type": "code",
   "execution_count": null,
   "metadata": {},
   "outputs": [],
   "source": [
    "class Scene(object):\n",
    "    def enter(self):\n",
    "        print(\"This scene is not yet configured.\")\n",
    "        print(\"Subclass it and implement enter().\")\n",
    "        exit(1)"
   ]
  },
  {
   "cell_type": "markdown",
   "metadata": {},
   "source": [
    "As you saw in the skeleton code, I have a base class for Scene that will have the common things that all scenes do. In this simple program they don’t do much, so this is more a demonstration of what you would do to make a base class."
   ]
  },
  {
   "cell_type": "code",
   "execution_count": null,
   "metadata": {},
   "outputs": [],
   "source": [
    "class Engine(object):\n",
    "    \n",
    "    def __init__(self, scene_map):\n",
    "        self.scene_map = scene_map\n",
    "        \n",
    "    def play(self):\n",
    "        current_scene = self.scene_map.opening_scene()\n",
    "        last_scene = self.scene_map.next_scene('finished')\n",
    "        \n",
    "        while current_scene != last_scene:\n",
    "            next_scene_name = current_scene.enter()\n",
    "            current_scene = self.scene_map.next_scene(next_scene_name)\n",
    "            \n",
    "        # be sure to print out the last scene\n",
    "        current_scene.enter()\n"
   ]
  },
  {
   "cell_type": "markdown",
   "metadata": {},
   "source": [
    "I also have my Engine class, and you can see how I’m already using the methods for Map.opening_scene\n",
    "and Map.next_scene."
   ]
  },
  {
   "cell_type": "code",
   "execution_count": null,
   "metadata": {},
   "outputs": [],
   "source": [
    "class Death(Scene):\n",
    "    \n",
    "    quips = [\n",
    "        \"You died. You kinda suck at this.\",\n",
    "        \"Your Mom would be proud...if she were smarter.\",\n",
    "        \"Such a luser.\",\n",
    "        \"I have a small puppy that's better at this.\",\n",
    "        \"You're worse than your Dad's jokes.\"\n",
    "    ]\n",
    "    \n",
    "def enter(self):\n",
    "    print(Death.quips[randint(0, len(self.quips)-1)])\n",
    "    exit(1)"
   ]
  },
  {
   "cell_type": "markdown",
   "metadata": {},
   "source": [
    "My first scene is the odd scene named Death, which shows you the simplest kind of scene you can write."
   ]
  },
  {
   "cell_type": "code",
   "execution_count": null,
   "metadata": {},
   "outputs": [],
   "source": [
    "class CentralCorridor(Scene):\n",
    "    def enter(self):\n",
    "        print(dedent(\"\"\"\n",
    "              The Gothons of Planet Percal #25 have invaded your ship and\n",
    "              destroyed your entire crew. You are the last surviving\n",
    "              member and your last mission is to get the neutron destruct\n",
    "              bomb from the Weapons Armory, put it in the bridge, and\n",
    "              blow the ship up after getting into an escape pod.\n",
    "              \n",
    "              You're running down the central corridor to the Weapons\n",
    "              Armory when a Gothon jumps out, red scaly skin, dark grimy\n",
    "              teeth, and evil clown costume flowing around his hate\n",
    "              filled body. He's blocking the door to the Armory and\n",
    "              about to pull a weapon to blast you.\n",
    "              \"\"\"))\n",
    "        \n",
    "        action = input(\"> \")\n",
    "        \n",
    "        if action == \"shoot!\":\n",
    "            \n",
    "            print(dedent(\"\"\"\n",
    "                  Quick on the draw you yank out your blaster and fire\n",
    "                  it at the Gothon. His clown costume is flowing and\n",
    "                  moving around his body, which throws off your aim.\n",
    "                  Your laser hits his costume but misses him entirely.\n",
    "                  This completely ruins his brand new costume his mother\n",
    "                  bought him, which makes him fly into an insane rage\n",
    "                  and blast you repeatedly in the face until you are\n",
    "                  dead. Then he eats you.\n",
    "                  \"\"\"))\n",
    "            return 'death'\n",
    "        \n",
    "        elif action == \"dodge!\":\n",
    "            print(dedent(\"\"\"\n",
    "                  Like a world class boxer you dodge, weave, slip and\n",
    "                  slide right as the Gothon's blaster cranks a laser\n",
    "                  past your head. In the middle of your artful dodge\n",
    "                  your foot slips and you bang your head on the metal\n",
    "                  wall and pass out. You wake up shortly after only to\n",
    "                  die as the Gothon stomps on your head and eats you.\n",
    "                  \"\"\"))\n",
    "            return 'death'\n",
    "        \n",
    "        elif action == \"tell a joke\":\n",
    "            print(dedent(\"\"\"\n",
    "                  Lucky for you they made you learn Gothon insults in\n",
    "                  the academy. You tell the one Gothon joke you know:\n",
    "                  Lbhe zbgure vf fb sng, jura fur fvgf nebhaq gur ubhfr,\n",
    "                  fur fvgf nebhaq gur ubhfr. The Gothon stops, tries\n",
    "                  not to laugh, then busts out laughing and can't move.\n",
    "                  While he's laughing you run up and shoot him square in\n",
    "                  the head putting him down, then jump through the\n",
    "                  Weapon Armory door.\n",
    "                  \"\"\"))\n",
    "            return 'laser_weapon_armory'\n",
    "        \n",
    "        else:\n",
    "            print(\"DOES NOT COMPUTE!\")\n",
    "            return 'central_corridor'"
   ]
  },
  {
   "cell_type": "markdown",
   "metadata": {},
   "source": [
    "After that I’ve created the CentralCorridor, which is the start of the game. I’m doing the scenes for\n",
    "the game before the Map because I need to reference them later."
   ]
  },
  {
   "cell_type": "code",
   "execution_count": null,
   "metadata": {},
   "outputs": [],
   "source": [
    "class LaserWeaponArmory(Scene):\n",
    "    def enter(self):\n",
    "        print(dedent(\"\"\"\n",
    "              You do a dive roll into the Weapon Armory, crouch and scan\n",
    "              the room for more Gothons that might be hiding. It's dead\n",
    "              quiet, too quiet. You stand up and run to the far side of\n",
    "              the room and find the neutron bomb in its container.\n",
    "              There's a keypad lock on the box and you need the code to\n",
    "              get the bomb out. If you get the code wrong 10 times then\n",
    "              the lock closes forever and you can't get the bomb. The\n",
    "              code is 3 digits.\n",
    "              \"\"\"))\n",
    "        \n",
    "        code = f\"{randint(1,9)}{randint(1,9)}{randint(1,9)}\"\n",
    "        guess = input(\"[keypad]> \")\n",
    "        guesses = 0\n",
    "        \n",
    "        while guess != code and guesses < 10:\n",
    "            print(\"BZZZZEDDD!\")\n",
    "            guesses += 1\n",
    "            guess = input(\"[keypad]> \")\n",
    "            \n",
    "        if guess == code:\n",
    "            print(dedent(\"\"\"\n",
    "                  The container clicks open and the seal breaks, letting\n",
    "                  gas out. You grab the neutron bomb and run as fast as\n",
    "                  you can to the bridge where you must place it in the\n",
    "                  right spot.\n",
    "                  \"\"\"))\n",
    "            return 'the_bridge'\n",
    "        else:\n",
    "            \n",
    "            print(dedent(\"\"\"\n",
    "                  The lock buzzes one last time and then you hear a\n",
    "                  sickening melting sound as the mechanism is fused\n",
    "                  together. You decide to sit there, and finally the\n",
    "                  Gothons blow up the ship from their ship and you die.\n",
    "                  \"\"\"))\n",
    "            return 'death'\n",
    "        \n",
    "class TheBridge(Scene):\n",
    "    \n",
    "    def enter(self):\n",
    "        print(dedent(\"\"\"\n",
    "              You burst onto the Bridge with the netron destruct bomb\n",
    "              under your arm and surprise 5 Gothons who are trying to\n",
    "              take control of the ship. Each of them has an even uglier\n",
    "              clown costume than the last. They haven't pulled their\n",
    "              weapons out yet, as they see the active bomb under your\n",
    "              arm and don't want to set it off.\n",
    "              \"\"\"))\n",
    "        action = input(\"> \")\n",
    "        print(dedent(\"\"\"\n",
    "               In a panic you throw the bomb at the group of Gothons\n",
    "               and make a leap for the door. Right as you drop it a\n",
    "               Gothon shoots you right in the back killing you. As\n",
    "               you die you see another Gothon frantically try to\n",
    "               disarm the bomb. You die knowing they will probably\n",
    "               blow up when it goes off.\n",
    "               \"\"\"))\n",
    "        \n",
    "        return 'death'\n",
    "    elif action == \"dodge!\":\n",
    "        print(dedent(\"\"\"\n",
    "              Like a world class boxer you dodge, weave, slip and\n",
    "              slide right as the Gothon's blaster cranks a laser\n",
    "              past your head. In the middle of your artful dodge\n",
    "              your foot slips and you bang your head on the metal\n",
    "              wall and pass out. You wake up shortly after only to\n",
    "              die as the Gothon stomps on your head and eats you.\n",
    "              \"\"\"))\n",
    "        return 'death'\n",
    "    elif action == \"tell a joke\":\n",
    "        \n",
    "        print(dedent(\"\"\"\n",
    "        Lucky for you they made you learn Gothon insults in\n",
    "        the academy. You tell the one Gothon joke you know:\n",
    "        Lbhe zbgure vf fb sng, jura fur fvgf nebhaq gur ubhfr,\n",
    "        fur fvgf nebhaq gur ubhfr. The Gothon stops, tries\n",
    "        not to laugh, then busts out laughing and can't move.\n",
    "        While he's laughing you run up and shoot him square in\n",
    "        the head putting him down, then jump through the\n",
    "        Weapon Armory door.\n",
    "        \"\"\"))\n",
    "        \n",
    "        return 'laser_weapon_armory'\n",
    "    else:\n",
    "        print(\"DOES NOT COMPUTE!\")\n",
    "        return 'central_corridor'"
   ]
  },
  {
   "cell_type": "markdown",
   "metadata": {},
   "source": [
    "After that I’ve created the CentralCorridor, which is the start of the game. I’m doing the scenes for\n",
    "the game before the Map because I need to reference them later."
   ]
  },
  {
   "cell_type": "code",
   "execution_count": null,
   "metadata": {},
   "outputs": [],
   "source": [
    "class LaserWeaponArmory(Scene):\n",
    "    \n",
    "    def enter(self):\n",
    "        print(dedent(\"\"\"\n",
    "              You do a dive roll into the Weapon Armory, crouch and scan\n",
    "              the room for more Gothons that might be hiding. It's dead\n",
    "              quiet, too quiet. You stand up and run to the far side of\n",
    "              the room and find the neutron bomb in its container.\n",
    "              There's a keypad lock on the box and you need the code to\n",
    "              get the bomb out. If you get the code wrong 10 times then\n",
    "              the lock closes forever and you can't get the bomb. The\n",
    "              12 code is 3\n",
    "              \"\"\"))\n",
    "        \n",
    "        code = f\"{randint(1,9)}{randint(1,9)}{randint(1,9)}\"\n",
    "        guess = input(\"[keypad]> \")\n",
    "        guesses = 0\n",
    "        \n",
    "        while guess != code and guesses < 10:\n",
    "            print(\"BZZZZEDDD!\")\n",
    "            guesses += 1\n",
    "            guess = input(\"[keypad]> \")\n",
    "        \n",
    "        if guess == code:\n",
    "            print(dedent(\"\"\"\n",
    "                  The container clicks open and the seal breaks, letting\n",
    "                  gas out. You grab the neutron bomb and run as fast as\n",
    "                  you can to the bridge where you must place it in the\n",
    "                  right spot.\n",
    "                  \"\"\"))\n",
    "            return 'the_bridge'\n",
    "        \n",
    "        else:\n",
    "            print(dedent(\"\"\"\n",
    "                  The lock buzzes one last time and then you hear a\n",
    "                  sickening melting sound as the mechanism is fused\n",
    "                  together. You decide to sit there, and finally the\n",
    "                  Gothons blow up the ship from their ship and you die.\n",
    "                  38 \"\"\"))\n",
    "            \n",
    "            return 'death'\n",
    "        \n",
    "class TheBridge(Scene):\n",
    "    \n",
    "    def enter(self):\n",
    "        print(dedent(\"\"\"\n",
    "              You burst onto the Bridge with the netron destruct bomb\n",
    "              under your arm and surprise 5 Gothons who are trying to\n",
    "              take control of the ship. Each of them has an even uglier\n",
    "              clown costume than the last. They haven't pulled their\n",
    "              weapons out yet, as they see the active bomb under your\n",
    "              arm and don't want to set it off.\n",
    "              \"\"\"))\n",
    "        action = input(\"> \")\n",
    "        \n",
    "        if action == \"throw the bomb\":\n",
    "            \n",
    "            \n",
    "            print(dedent(\"\"\"\n",
    "                  In a panic you throw the bomb at the group of Gothons\n",
    "                  and make a leap for the door. Right as you drop it a\n",
    "                  Gothon shoots you right in the back killing you. As\n",
    "                  you die you see another Gothon frantically try to\n",
    "                  disarm the bomb. You die knowing they will probably\n",
    "                  blow up when it goes off.\n",
    "                  \"\"\"))\n",
    "            \n",
    "            return 'death'\n",
    "        \n",
    "        elif action == \"slowly place the bomb\":\n",
    "            print(dedent(\"\"\"\n",
    "                  You point your blaster at the bomb under your arm and\n",
    "                  the Gothons put their hands up and start to sweat.\n",
    "                  You inch backward to the door, open it, and then\n",
    "                  carefully place the bomb on the floor, pointing your\n",
    "                  blaster at it. You then jump back through the door,\n",
    "                  punch the close button and blast the lock so the\n",
    "                  Gothons can't get out. Now that the bomb is placed\n",
    "                  you run to the escape pod to get off this tin can.\n",
    "                  \"\"\"))\n",
    "            \n",
    "            return 'escape_pod'\n",
    "        \n",
    "        else:\n",
    "            print(\"DOES NOT COMPUTE!\")\n",
    "            return \"the_bridge\"\n",
    "        \n",
    "        \n",
    "class EscapePod(Scene):\n",
    "    \n",
    "    def enter(self):\n",
    "        print(dedent(\"\"\"\n",
    "              You rush through the ship desperately trying to make it to\n",
    "              the escape pod before the whole ship explodes. It seems\n",
    "              like hardly any Gothons are on the ship, so your run is\n",
    "              clear of interference. You get to the chamber with the\n",
    "              escape pods, and now need to pick one to take. Some of\n",
    "              them could be damaged but you don't have time to look.\n",
    "              There's 5 pods, which one do you take?\n",
    "              \"\"\"))\n",
    "        \n",
    "        good_pod = randint(1,5)\n",
    "        guess = input(\"[pod #]> \")\n",
    "        \n",
    "        \n",
    "        \n",
    "        if int(guess) != good_pod:\n",
    "            \n",
    "            print(dedent(\"\"\"\n",
    "                  You jump into pod {guess} and hit the eject button.\n",
    "                  The pod escapes out into the void of space, then\n",
    "                  implodes as the hull ruptures, crushing your body into\n",
    "                  jam jelly.\n",
    "                  \"\"\"))\n",
    "            \n",
    "            \n",
    "            return 'death'\n",
    "        \n",
    "        else:\n",
    "            \n",
    "            print(dedent(\"\"\"\n",
    "                  You jump into pod {guess} and hit the eject button.\n",
    "                  The pod easily slides out into space heading to the\n",
    "                  planet below. As it flies to the planet, you look\n",
    "                  back and see your ship implode then explode like a\n",
    "                  bright star, taking out the Gothon ship at the same\n",
    "                  time. You won!\n",
    "                  \"\"\"))\n",
    "            \n",
    "            \n",
    "            return 'finished'\n",
    "        \n",
    "        \n",
    "class Finished(Scene):\n",
    "    \n",
    "    def enter(self):\n",
    "        \n",
    "        print(\"You won! Good job.\")\n",
    "        return 'finished'"
   ]
  },
  {
   "cell_type": "markdown",
   "metadata": {},
   "source": [
    "This is the rest of the game’s scenes, and since I know I need them and have thought about how they’ll\n",
    "flow together I’m able to code them up directly."
   ]
  },
  {
   "cell_type": "code",
   "execution_count": null,
   "metadata": {},
   "outputs": [],
   "source": [
    "class Map(object):\n",
    "    \n",
    "    scenes = {\n",
    "        'central_corridor': CentralCorridor(),\n",
    "        'laser_weapon_armory': LaserWeaponArmory(),\n",
    "        'the_bridge': TheBridge(),\n",
    "        'escape_pod': EscapePod(),\n",
    "        'death': Death(),\n",
    "        'finished': Finished(),\n",
    "    }\n",
    "\n",
    "    def __init__(self, start_scene):\n",
    "        self.start_scene = start_scene\n",
    "        \n",
    "    def next_scene(self, scene_name):\n",
    "        val = Map.scenes.get(scene_name)\n",
    "        return val\n",
    "        \n",
    "    def opening_scene(self):\n",
    "        return self.next_scene(self.start_scene)\n",
    "    "
   ]
  },
  {
   "cell_type": "markdown",
   "metadata": {},
   "source": [
    "After that I have my Map class, and you can see it is storing each scene by name in a dictionary, and\n",
    "then I refer to that dict with Map.scenes."
   ]
  },
  {
   "cell_type": "code",
   "execution_count": null,
   "metadata": {},
   "outputs": [],
   "source": [
    "a_map = Map('central_corridor')\n",
    "a_game = Engine(a_map)\n",
    "a_game.play()"
   ]
  },
  {
   "cell_type": "markdown",
   "metadata": {},
   "source": [
    "Finally I’ve got my code that runs the game by making a Map, then handing that map to an Engine\n",
    "before calling play to make the game work."
   ]
  },
  {
   "cell_type": "markdown",
   "metadata": {},
   "source": [
    "> The Gothons of Planet Percal #25 have invaded your ship and\\\n",
    "destroyed your entire crew. You are the last surviving\\\n",
    "member and your last mission is to get the neutron destruct\\\n",
    "bomb from the Weapons Armory, put it in the bridge, and\\\n",
    "blow the ship up after getting into an escape pod.\\\n",
    "You're running down the central corridor to the Weapons\\\n",
    "Armory when a Gothon jumps out, red scaly skin, dark grimy\\\n",
    "teeth, and evil clown costume flowing around his hate\\\n",
    "filled body. He's blocking the door to the Armory and\\\n",
    "\n",
    "> about to pull a weapon to blast you.\\\n",
    "> dodge!\\\n",
    "Like a world class boxer you dodge, weave, slip and\\\n",
    "slide right as the Gothon's blaster cranks a laser\\\n",
    "past your head. In the middle of your artful dodge\\\n",
    "your foot slips and you bang your head on the metal\\\n",
    "wall and pass out. You wake up shortly after only to\\\n",
    "die as the Gothon stomps on your head and eats you.\\\n",
    "Such a luser.\\"
   ]
  },
  {
   "cell_type": "code",
   "execution_count": null,
   "metadata": {},
   "outputs": [],
   "source": []
  }
 ],
 "metadata": {
  "kernelspec": {
   "display_name": "Python 3",
   "language": "python",
   "name": "python3"
  },
  "language_info": {
   "codemirror_mode": {
    "name": "ipython",
    "version": 3
   },
   "file_extension": ".py",
   "mimetype": "text/x-python",
   "name": "python",
   "nbconvert_exporter": "python",
   "pygments_lexer": "ipython3",
   "version": "3.7.3"
  }
 },
 "nbformat": 4,
 "nbformat_minor": 2
}
