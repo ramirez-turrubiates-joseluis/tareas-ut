{
 "cells": [
  {
   "cell_type": "markdown",
   "metadata": {},
   "source": [
    "## Use of For        1/11/2019"
   ]
  },
  {
   "cell_type": "code",
   "execution_count": 26,
   "metadata": {},
   "outputs": [
    {
     "name": "stdout",
     "output_type": "stream",
     "text": [
      "Introduce the amount of names: 3\n",
      "Introduce a name: jose\n",
      "Introduce a name: luis\n",
      "Introduce a name: ramirez\n",
      "Which position do you want print? 2\n",
      "ramirez\n"
     ]
    }
   ],
   "source": [
    "names = int(input(\"Introduce the amount of names: \"))\n",
    "y = []\n",
    "for i in range(0,names):\n",
    "    x = str(input(\"Introduce a name: \"))\n",
    "    y.append(x)\n",
    "\n",
    "v1 = int(input(\"Which position do you want print? \"))\n",
    "if v1 < names:\n",
    "    print(y[v1])\n",
    "else:\n",
    "    print(\"Select another option and run again\")\n",
    "\n",
    "    \n",
    "\n",
    "\n",
    "    "
   ]
  },
  {
   "cell_type": "code",
   "execution_count": null,
   "metadata": {},
   "outputs": [],
   "source": []
  },
  {
   "cell_type": "code",
   "execution_count": null,
   "metadata": {},
   "outputs": [],
   "source": []
  },
  {
   "cell_type": "code",
   "execution_count": null,
   "metadata": {},
   "outputs": [],
   "source": []
  },
  {
   "cell_type": "code",
   "execution_count": null,
   "metadata": {},
   "outputs": [],
   "source": []
  }
 ],
 "metadata": {
  "kernelspec": {
   "display_name": "Python 3",
   "language": "python",
   "name": "python3"
  },
  "language_info": {
   "codemirror_mode": {
    "name": "ipython",
    "version": 3
   },
   "file_extension": ".py",
   "mimetype": "text/x-python",
   "name": "python",
   "nbconvert_exporter": "python",
   "pygments_lexer": "ipython3",
   "version": "3.7.3"
  }
 },
 "nbformat": 4,
 "nbformat_minor": 2
}
