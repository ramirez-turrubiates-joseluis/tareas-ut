{
 "cells": [
  {
   "cell_type": "markdown",
   "metadata": {},
   "source": [
    "# 30/10/18 inputs\n"
   ]
  },
  {
   "cell_type": "code",
   "execution_count": null,
   "metadata": {},
   "outputs": [],
   "source": [
    "print(\"How old are you?\", end='')\n",
    "age= input()\n",
    "print(f\"So, you are {age} years old\")"
   ]
  },
  {
   "cell_type": "code",
   "execution_count": 1,
   "metadata": {},
   "outputs": [
    {
     "name": "stdout",
     "output_type": "stream",
     "text": [
      "What is your name ?  Jose Luis\n",
      "Hi Jose Luis\n"
     ]
    }
   ],
   "source": [
    "name= input(\"What is your name ?  \")\n",
    "print(f\"Hi {name}\")"
   ]
  },
  {
   "cell_type": "code",
   "execution_count": 2,
   "metadata": {},
   "outputs": [
    {
     "name": "stdout",
     "output_type": "stream",
     "text": [
      "Write 3 ages\n",
      "4\n",
      "5\n",
      "6\n",
      "sample mean 5.0\n"
     ]
    }
   ],
   "source": [
    "print(\"Write 3 ages\")\n",
    "age_1 = int(input())\n",
    "age_2 = int(input())\n",
    "age_3 = int(input())\n",
    "\n",
    "suma= (age_1+age_2+age_3)\n",
    "print(\"sample mean\",suma/3)"
   ]
  },
  {
   "cell_type": "code",
   "execution_count": null,
   "metadata": {},
   "outputs": [],
   "source": []
  }
 ],
 "metadata": {
  "kernelspec": {
   "display_name": "Python 3",
   "language": "python",
   "name": "python3"
  },
  "language_info": {
   "codemirror_mode": {
    "name": "ipython",
    "version": 3
   },
   "file_extension": ".py",
   "mimetype": "text/x-python",
   "name": "python",
   "nbconvert_exporter": "python",
   "pygments_lexer": "ipython3",
   "version": "3.7.3"
  }
 },
 "nbformat": 4,
 "nbformat_minor": 2
}
