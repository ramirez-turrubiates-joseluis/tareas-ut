{
 "cells": [
  {
   "cell_type": "markdown",
   "metadata": {},
   "source": [
    "# Introduction to python \n"
   ]
  },
  {
   "cell_type": "markdown",
   "metadata": {},
   "source": [
    "## Examples"
   ]
  },
  {
   "cell_type": "markdown",
   "metadata": {},
   "source": [
    "## Example 1.Print\n",
    "To start programming in pyhton you should know the basic things as print something, It is very usefull to indicate some instruction or message, in simple words it is to put a word or words on the screen. For example:"
   ]
  },
  {
   "cell_type": "code",
   "execution_count": 4,
   "metadata": {
    "collapsed": true
   },
   "outputs": [
    {
     "name": "stdout",
     "output_type": "stream",
     "text": [
      "How are you my friend?\n",
      "Welcome to python\n",
      "Try again\n",
      "You can do it bro\n",
      "You are special for me\n"
     ]
    }
   ],
   "source": [
    "\n",
    "\n",
    "print(\"How are you my friend?\")\n",
    "print(\"Welcome to python\")\n",
    "print(\"Try again\")\n",
    "print(\"You can do it bro\")\n",
    "print(\"You are special for me\")"
   ]
  },
  {
   "cell_type": "markdown",
   "metadata": {},
   "source": []
  },
  {
   "cell_type": "markdown",
   "metadata": {},
   "source": [
    "## Example 2(add comments)\n",
    "In this excerscise we are going to show you, how it works.\n",
    "In simple words It is used for add comments in your code, it is very usefull because when you write a big code and you put comments you can identify the functions of the code when we write a comment. We use the command #, also when someone else wants read your code is more easy that person can understand it."
   ]
  },
  {
   "cell_type": "code",
   "execution_count": 5,
   "metadata": {},
   "outputs": [
    {
     "name": "stdout",
     "output_type": "stream",
     "text": [
      "Jose Luis Ramirez \n",
      "Juan Carlos Maldonado \n"
     ]
    }
   ],
   "source": [
    "print(\"Jose Luis Ramirez \") #This is a name \n",
    "\n",
    "print(\"Juan Carlos Maldonado \") #This is a comment \n",
    "#When you run the programm this it is not going to appear on the screen."
   ]
  },
  {
   "cell_type": "markdown",
   "metadata": {},
   "source": [
    "## Example 3 (Maths) \n",
    "\n",
    "You can do aritmetical operations in python we use the next commands:\n",
    "\n",
    "• + plus-----------------------With this you can do a addition\n",
    "\n",
    "• - minus----------------------With this you can do a substraction\n",
    "\n",
    "• / slash----------------------With this you can do a divition\n",
    "\n",
    "• * asterisk-------------------With this you can do a multiplication \n",
    "\n",
    "• % percent--------------------With this you obtain the remainder of a divition \n",
    "\n",
    "• < less-than\n",
    "\n",
    "• > greater-than\n",
    "\n",
    "• <= less-than-equal\n",
    "\n",
    "• >= greater-than-equal\n",
    "\n",
    "\n",
    "Those are the principal operations when you want a operation you only need write without quotation marks. You need to use the instruction print as previous examples. The last commands (<,>,<=,>=) These just are going to give you two answers can be true or false, "
   ]
  },
  {
   "cell_type": "code",
   "execution_count": 6,
   "metadata": {
    "scrolled": true
   },
   "outputs": [
    {
     "name": "stdout",
     "output_type": "stream",
     "text": [
      "With this you can do a addition 9\n",
      "With this you can do a substraction -1\n",
      "With this you can do a divition 0.8\n",
      "With this you can do a multiplication 20\n",
      "With this you obtain the remainder of a divition 0.8\n",
      "less-than True\n",
      "greather than False\n",
      "less-than-equal True\n",
      "greater-than-equal False\n"
     ]
    }
   ],
   "source": [
    "print(\"With this you can do a addition\", 4+5)\n",
    "print(\"With this you can do a substraction\", 4-5)\n",
    "print(\"With this you can do a divition\", 4/5)\n",
    "print(\"With this you can do a multiplication\",4*5)\n",
    "print(\"With this you obtain the remainder of a divition\", 4/5)\n",
    "print(\"less-than\",4<5)\n",
    "print(\"greather than\",4>5)\n",
    "print(\"less-than-equal\",4<=5)\n",
    "print(\"greater-than-equal\",4>=5)\n"
   ]
  },
  {
   "cell_type": "markdown",
   "metadata": {},
   "source": [
    "## Example 4(VARIABLES AND NAMES)"
   ]
  },
  {
   "cell_type": "markdown",
   "metadata": {},
   "source": [
    "The variables are used for save data and state,represent values mediantely a mathematical expression, In simple words it is used for put name to something but you can not use space to declare a variable you must use the command _ between each word \n"
   ]
  },
  {
   "cell_type": "code",
   "execution_count": 10,
   "metadata": {},
   "outputs": [
    {
     "name": "stdout",
     "output_type": "stream",
     "text": [
      "How many people are in the group? 190\n",
      "How many young people are those who do not study? 10\n",
      "Who are young? 60\n",
      "How many children are in each family? 2.0\n"
     ]
    }
   ],
   "source": [
    "students = 50\n",
    "ninis = 10\n",
    "families = 20\n",
    "homeless = 70\n",
    "kids = 10\n",
    "old_people = 30\n",
    "\n",
    "people= (students+ninis+families+homeless+kids+old_people)\n",
    "x=(students+ninis)\n",
    "y=(families/kids)\n",
    "\n",
    "print(\"How many people are in the group?\",people)\n",
    "print(\"How many young people are those who do not study?\",ninis)\n",
    "print(\"Who are young?\",x)\n",
    "print(\"How many children are in each family?\",y)\n",
    "\n",
    "\n",
    "\n"
   ]
  },
  {
   "cell_type": "markdown",
   "metadata": {},
   "source": [
    "## Example 5(VARIABLES AND NAMES)"
   ]
  },
  {
   "cell_type": "markdown",
   "metadata": {},
   "source": [
    "Now we are goign to applie more things and another form in which you can print in a different form with new commands it is a example of the commands f\"Hello {somevar}\" when you put the letter f before the quotation marks you are saying to python that it must put a variable of the thing inside of the {}. This is a string. Example:\n",
    "\n"
   ]
  },
  {
   "cell_type": "code",
   "execution_count": 23,
   "metadata": {},
   "outputs": [
    {
     "name": "stdout",
     "output_type": "stream",
     "text": [
      "I am going to tell you my day\n",
      "Yesterday I went a store the name of the store is Wal-mart\n",
      "I was accompanied by Juan and He was wearing a green shirt\n",
      "I bought a lot of fruit as apples,watermelon,pineapple and strawberry\n",
      "I only had 500 pesos\n",
      "And the total was the addition of 20,2,3,15 it is 40\n",
      "In the end I had 460 pesos left \n"
     ]
    }
   ],
   "source": [
    "apples=20\n",
    "watermelon=2\n",
    "pineapple=3\n",
    "strawberry=15\n",
    "juan= \"green\"\n",
    "store=\"Wal-mart\"\n",
    "money=\"500 pesos\"\n",
    "fruit=\"apples,watermelon,pineapple and strawberry\"\n",
    "final= 500-total\n",
    "\n",
    "total= apples+watermelon+pineapple+strawberry\n",
    "print(\"I am going to tell you my day\")\n",
    "print(f\"Yesterday I went a store the name of the store is {store}\")\n",
    "print(f\"I was accompanied by Juan and He was wearing a {juan} shirt\")\n",
    "print(f\"I bought a lot of fruit as {fruit}\")\n",
    "print(f\"I only had {money}\")\n",
    "print(f\"And the total was the addition of {apples},{watermelon},{pineapple},{strawberry} it is {total}\")\n",
    "print(f\"In the end I had {final} pesos left \")\n",
    "\n"
   ]
  },
  {
   "cell_type": "markdown",
   "metadata": {},
   "source": [
    "## Example 6 (Strings & texts). \n",
    "\n",
    "When you are working on Python, you will use many times texts that help you to do the programm interacts to the rest of people who read or use your programm. The programmers love to save time in this kind of cases, thereby they use strings to print messages that are in a variable using strings and other tools of programming that strings involve as \"format.()\", this tool allows you to include words or texts that you did not use as variables in another texts. In other words, to include words or texts that you want to add at the moment or that you will use just once. \n",
    "\n",
    "For example:"
   ]
  },
  {
   "cell_type": "markdown",
   "metadata": {},
   "source": [
    "You can put that in any string\n",
    "with {an_example_of_string}. You also can see that I have to use a special type of string to ”format”; it is called\n",
    "an ”f-string” and it is composed by this:\n",
    "\n",
    "f \"some text here {the variable you choose}\" ; f \"some text of {an_example_of string}\".\n"
   ]
  },
  {
   "cell_type": "code",
   "execution_count": 7,
   "metadata": {},
   "outputs": [
    {
     "name": "stdout",
     "output_type": "stream",
     "text": [
      "you can use variables to save time.\n",
      "They are an easier way to work, and you can use them as you want\n",
      "Yo can use The format.()to include texts, too\n"
     ]
    }
   ],
   "source": [
    "example_of_string = \"variables\"\n",
    "a = f\"you can use {example_of_string} to save time.\"\n",
    "\n",
    "b = \"are an easier way to work\"\n",
    "\n",
    "c = \"use them as you want\"\n",
    "\n",
    "print(a)\n",
    "print(f\"They {b}, and you can {c}\")\n",
    "\n",
    "The_format = \"Yo can use The format.(){}\"\n",
    "\n",
    "print(The_format.format('to include texts, too'))"
   ]
  },
  {
   "cell_type": "markdown",
   "metadata": {},
   "source": [
    "## Example 7(More printing).\n",
    "\n",
    "This section is more than the same that was exposed before. There isn't so much explaining because what we showed before will be used here."
   ]
  },
  {
   "cell_type": "code",
   "execution_count": 8,
   "metadata": {
    "scrolled": true
   },
   "outputs": [
    {
     "name": "stdout",
     "output_type": "stream",
     "text": [
      "The life can confuse you sometimes.\n",
      "There were a lot of people who tried to understand it.\n",
      "But, not everyone could\n",
      "...\n",
      "I like boneless\n"
     ]
    }
   ],
   "source": [
    "variable = \"understand\"\n",
    "print(\"The life can confuse you {}.\".format('sometimes'))\n",
    "print(f\"There were a lot of people who tried to {variable} it.\")\n",
    "print(\"But, not everyone could\")\n",
    "print(\".\"*3)\n",
    "ex1 = \"I \"\n",
    "ex2 = \"l\"\n",
    "ex3 = \"i\"\n",
    "ex4 = \"k\"\n",
    "ex5 = \"e \"\n",
    "ex6 = \"b\"\n",
    "ex7 = \"o\"\n",
    "ex8 = \"n\"\n",
    "ex9 = \"e\"\n",
    "ex10 = \"l\"\n",
    "ex11 = \"e\"\n",
    "ex12 = \"s\"\n",
    "ex13 = \"s\"\n",
    "print(ex1 + ex2 + ex3 + ex4 + ex5 + ex6 + ex7 + ex8 + ex9 + ex10 + ex11 + ex12 + ex13)"
   ]
  },
  {
   "cell_type": "markdown",
   "metadata": {},
   "source": [
    "## Example 8 (Printing. printing)\n",
    "\n",
    "Following with the strings, we will expose a more complicated way to make a sequence of text in Python. It could look complex but it can be understood making notes and remembering the taught before. "
   ]
  },
  {
   "cell_type": "code",
   "execution_count": 9,
   "metadata": {},
   "outputs": [
    {
     "name": "stdout",
     "output_type": "stream",
     "text": [
      "2 4 6 8\n",
      "Two Four Six Eight\n",
      "{} {} {} {} {} {} {} {} {} {} {} {} {} {} {} {}\n",
      "Making a poem using a programm I feel the way of change what I say\n"
     ]
    }
   ],
   "source": [
    "formatter = \"{} {} {} {}\"\n",
    "print(formatter.format(2,4,6,8))\n",
    "print(formatter.format(\"Two\", \"Four\", \"Six\", \"Eight\"))\n",
    "print(formatter.format(formatter, formatter, formatter, formatter))\n",
    "print(formatter.format(\n",
    "    \"Making a poem\",\n",
    "    \"using a programm\",\n",
    "    \"I feel the way\", \n",
    "    \"of change what I say\"))"
   ]
  },
  {
   "cell_type": "markdown",
   "metadata": {},
   "source": [
    "## Exercise 9 (Printing, printing, printing)\n",
    "\n",
    "Now, after everything we already saw, we will write some different forms to order the text as we want. It won't be difficult, it just changes a little bit how the message will be seen. It is important to notice the details that are included in every line of each code. They make the difference."
   ]
  },
  {
   "cell_type": "code",
   "execution_count": 10,
   "metadata": {},
   "outputs": [
    {
     "name": "stdout",
     "output_type": "stream",
     "text": [
      "These are the Countries:  Mexico, France, England, Japan\n",
      "These are their respective lenguages:  \n",
      "-Spanish\n",
      "-French\n",
      "-English\n",
      "-Japanese\n",
      "Using this three double-quotes\n",
      "we are able to write a text in more than one line \n",
      "without problem,\n",
      "Like this.\n"
     ]
    }
   ],
   "source": [
    "Countries = \"Mexico, France, England, Japan\"\n",
    "Lenguages = \"\\n-Spanish\\n-French\\n-English\\n-Japanese\"\n",
    "print(\"These are the Countries: \", Countries)\n",
    "print(\"These are their respective lenguages: \", Lenguages)\n",
    "print(\"\"\"Using this three double-quotes\n",
    "we are able to write a text in more than one line \n",
    "without problem,\n",
    "Like this.\"\"\")"
   ]
  },
  {
   "cell_type": "markdown",
   "metadata": {},
   "source": [
    "## Exercise 10 (What was that?)\n",
    "\n",
    "What we did were strings and how to write texts in different ways that can help the programmer to save time and support its work. But, there is always a probability the programmer can fail and confuse. Here we will expose some errors and how can be solved."
   ]
  },
  {
   "cell_type": "markdown",
   "metadata": {},
   "source": [
    "Firstly, as a review. What we did before was to write in multiple lines using codes. What we used was \"\\n\". That backslash and n put before the word or sentence yo want to put in another line, but the main problem is that it can confuse sometimes if it is bad applied.\n",
    "\n",
    "The second the we used was the triple double-quotes. But, using quotes in general can appear problems for the programmer. For example, if you want to write \"Josel110 \"loves\" Daniel\", Python will be confused because it will think double-quotes end at the begining of loves. Like this \"Josel110 \"...\n",
    "\n",
    "To solve it, you need to use a escape sequence (\\\"). Or if you are working with single-quotes (\\'). For example:"
   ]
  },
  {
   "cell_type": "code",
   "execution_count": 11,
   "metadata": {},
   "outputs": [
    {
     "ename": "SyntaxError",
     "evalue": "invalid syntax (<ipython-input-11-18bdc15b3123>, line 1)",
     "output_type": "error",
     "traceback": [
      "\u001b[1;36m  File \u001b[1;32m\"<ipython-input-11-18bdc15b3123>\"\u001b[1;36m, line \u001b[1;32m1\u001b[0m\n\u001b[1;33m    print(\"\"Josel110 \"loves\" Daniel\"\")\u001b[0m\n\u001b[1;37m                   ^\u001b[0m\n\u001b[1;31mSyntaxError\u001b[0m\u001b[1;31m:\u001b[0m invalid syntax\n"
     ]
    }
   ],
   "source": [
    "print(\"\"Josel110 \"loves\" Daniel\"\")"
   ]
  },
  {
   "cell_type": "code",
   "execution_count": 12,
   "metadata": {},
   "outputs": [
    {
     "name": "stdout",
     "output_type": "stream",
     "text": [
      "Josel110 \"loves\" Daniel\n"
     ]
    }
   ],
   "source": [
    "print(\"Josel110 \\\"loves\\\" Daniel\")"
   ]
  },
  {
   "cell_type": "markdown",
   "metadata": {},
   "source": [
    "Here are showed other examples of escape sequences:"
   ]
  },
  {
   "cell_type": "code",
   "execution_count": 13,
   "metadata": {},
   "outputs": [
    {
     "name": "stdout",
     "output_type": "stream",
     "text": [
      "\tDid you see that? I was Tabbed\n",
      "I'm here, but \n",
      "I'm here now jeje\n",
      "\n",
      "This is a list of subjects that make me cry:\n",
      "\t-Calculus\n",
      "\t-Statistics\n",
      "\t-Thermodynamics\n",
      "\n"
     ]
    }
   ],
   "source": [
    "Tab_Example = \"\\tDid you see that? I was Tabbed\"\n",
    "Split_line = \"I'm here, but \\nI'm here now jeje\"\n",
    "I_am_fat = \"\"\"\n",
    "This is a list of subjects that make me cry:\n",
    "\\t-Calculus\n",
    "\\t-Statistics\n",
    "\\t-Thermodynamics\n",
    "\"\"\"\n",
    "print(Tab_Example)\n",
    "print(Split_line)\n",
    "print(I_am_fat)"
   ]
  },
  {
   "cell_type": "markdown",
   "metadata": {},
   "source": []
  },
  {
   "cell_type": "markdown",
   "metadata": {},
   "source": []
  },
  {
   "cell_type": "code",
   "execution_count": null,
   "metadata": {},
   "outputs": [],
   "source": []
  }
 ],
 "metadata": {
  "kernelspec": {
   "display_name": "Python 3",
   "language": "python",
   "name": "python3"
  },
  "language_info": {
   "codemirror_mode": {
    "name": "ipython",
    "version": 3
   },
   "file_extension": ".py",
   "mimetype": "text/x-python",
   "name": "python",
   "nbconvert_exporter": "python",
   "pygments_lexer": "ipython3",
   "version": "3.7.3"
  }
 },
 "nbformat": 4,
 "nbformat_minor": 2
}
