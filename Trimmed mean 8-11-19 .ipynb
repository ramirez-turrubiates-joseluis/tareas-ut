{
 "cells": [
  {
   "cell_type": "markdown",
   "metadata": {},
   "source": [
    "# Trimmed mean \n",
    "\n",
    "## Maldonado Valencia Juan Carlos and Jose Luis Ramirez Turrubiates\n",
    "## 8/11/19\n"
   ]
  },
  {
   "cell_type": "code",
   "execution_count": 1,
   "metadata": {},
   "outputs": [
    {
     "name": "stdout",
     "output_type": "stream",
     "text": [
      "Introduce the number of values you will use: 10\n",
      "What percentage do you want to use?10\n",
      " \n",
      "Introduce a value: 121\n",
      "Introduce a value: 105\n",
      "Introduce a value: 81\n",
      "Introduce a value: 90\n",
      "Introduce a value: 2\n",
      "Introduce a value: 4\n",
      "Introduce a value: 6\n",
      "Introduce a value: 21\n",
      "Introduce a value: 11\n",
      "Introduce a value: 7\n",
      " \n",
      "These are your data\n",
      "[121.0, 105.0, 81.0, 90.0, 2.0, 4.0, 6.0, 21.0, 11.0, 7.0]\n",
      "This is your sample mean:  44.8\n",
      " \n",
      "Here we have the ordered list\n",
      "[2.0, 4.0, 6.0, 7.0, 11.0, 21.0, 81.0, 90.0, 105.0, 121.0]\n",
      " \n",
      "This is the amount of values that you have to remove: 1\n",
      "[4.0, 6.0, 7.0, 11.0, 21.0, 81.0, 90.0, 105.0]\n",
      "This is the result of the trimmed mean:  40.625\n"
     ]
    }
   ],
   "source": [
    "\n",
    "In = int(input(\"Introduce the number of values you will use: \")) #This is the input of the program\n",
    "porcentaje = int(input(\"What percentage do you want to use?\")) #Here is the percentage to use\n",
    "a = (porcentaje/100)  #In this part is made an equation using the value of 'porcentaje' divided by 100 to get the equivalent in percentage\n",
    "y = (round(a*In))   #To obtain an entire as result and then to know the values to delete we use 'round' code\n",
    "\n",
    "\n",
    "listNum = []\n",
    "\n",
    "print(\" \")\n",
    "\n",
    "for i in range (0,In): \n",
    "    x = float(input(\"Introduce a value: \"))    #In this loop the user type the correspondent values\n",
    "    listNum.append(x)   #Then, they are sent to the list of the variable 'listNum' \n",
    "    \n",
    "print(\" \")\n",
    "print(\"These are your data\")    \n",
    "print (listNum)\n",
    "\n",
    "suma_de_valores = sum(listNum)\n",
    "print (\"This is your sample mean: \",suma_de_valores/In)  #The sample mean is shown to compare results at the end\n",
    "print(\" \")\n",
    "\n",
    "#Here is the list put from the smallest number to the largest using the code 'sorted'\n",
    "print(\"Here we have the ordered list\")\n",
    "list_acomd = sorted (listNum)\n",
    "print(list_acomd)\n",
    "\n",
    "lista_chida = list_acomd[y:In-y]  #In this part is created a new list omiting the smallest and largest numbers\n",
    "print(\" \")\n",
    "\n",
    "print (\"This is the amount of values that you have to remove:\",y)  #The result of 'y' is the number of numbers that are omited by each side\n",
    "print(lista_chida)\n",
    "suma = sum(lista_chida)  #New values are made with sumatories and counting the number of digits of the new list to calculate the new sample mean\n",
    "contar =len(lista_chida) \n",
    "\n",
    "resultado = suma/contar  #Finally the Trimmed mean is calculated like the Sample Mean, but taking account just the values of the new list\n",
    "print (\"This is the result of the trimmed mean: \",resultado)\n",
    "\n",
    "\n"
   ]
  },
  {
   "cell_type": "code",
   "execution_count": null,
   "metadata": {},
   "outputs": [],
   "source": []
  },
  {
   "cell_type": "code",
   "execution_count": null,
   "metadata": {},
   "outputs": [],
   "source": []
  }
 ],
 "metadata": {
  "kernelspec": {
   "display_name": "Python 3",
   "language": "python",
   "name": "python3"
  },
  "language_info": {
   "codemirror_mode": {
    "name": "ipython",
    "version": 3
   },
   "file_extension": ".py",
   "mimetype": "text/x-python",
   "name": "python",
   "nbconvert_exporter": "python",
   "pygments_lexer": "ipython3",
   "version": "3.7.3"
  }
 },
 "nbformat": 4,
 "nbformat_minor": 2
}
